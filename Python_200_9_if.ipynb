{
  "nbformat": 4,
  "nbformat_minor": 0,
  "metadata": {
    "colab": {
      "name": "Python_200_9_if",
      "provenance": [],
      "collapsed_sections": [],
      "authorship_tag": "ABX9TyMlp2IZJloYT5kZqoi4KMVe",
      "include_colab_link": true
    },
    "kernelspec": {
      "display_name": "Python 3",
      "name": "python3"
    }
  },
  "cells": [
    {
      "cell_type": "markdown",
      "metadata": {
        "id": "view-in-github",
        "colab_type": "text"
      },
      "source": [
        "<a href=\"https://colab.research.google.com/github/YoungriKIM/Python_200/blob/main/Python_200_9_if.ipynb\" target=\"_parent\"><img src=\"https://colab.research.google.com/assets/colab-badge.svg\" alt=\"Open In Colab\"/></a>"
      ]
    },
    {
      "cell_type": "code",
      "metadata": {
        "id": "GfRQsxOVvM3E"
      },
      "source": [
        "# 101) 파이썬에서 true, false를 갖는 데이터 타입은?\r\n",
        "# bool : 불리언(Booleans)\r\n",
        "\r\n",
        "print(type(True))       #<class 'bool'>\r\n",
        "print(type(False))      #<class 'bool'>\r\n",
        "\r\n",
        "#----------------------------------------------\r\n",
        "\r\n",
        "print(3 == 5)\r\n",
        "# False\r\n",
        "\r\n",
        "#----------------------------------------------\r\n",
        "\r\n",
        "print(3 < 5)\r\n",
        "# True\r\n",
        "\r\n",
        "#----------------------------------------------\r\n",
        "\r\n",
        "x = 4\r\n",
        "print(1 < x < 5)\r\n",
        "# True\r\n",
        "\r\n",
        "#----------------------------------------------\r\n",
        "\r\n",
        "print((3 == 3) and ( 4 != 3))\r\n",
        "#   ==   같다.\r\n",
        "#   !=   다르다.\r\n",
        "# True\r\n",
        "\r\n",
        "#----------------------------------------------\r\n",
        "\r\n",
        "# print(3 => 4)\r\n",
        "# SyntaxError: invalid syntax\r\n",
        "\r\n",
        "#----------------------------------------------\r\n",
        "\r\n",
        "if 4 < 3:\r\n",
        "    print('Hello world.')\r\n",
        "else:\r\n",
        "    print('Hi, there.')\r\n",
        "\r\n",
        "#Hi, there\r\n",
        "\r\n",
        "#----------------------------------------------\r\n"
      ],
      "execution_count": null,
      "outputs": []
    },
    {
      "cell_type": "code",
      "metadata": {
        "colab": {
          "base_uri": "https://localhost:8080/"
        },
        "id": "sYPT-6adts6m",
        "outputId": "9f6d176f-0920-47cd-941d-d3bd0797ff22"
      },
      "source": [
        "# 109)\r\n",
        "if True:\r\n",
        "    print('1')\r\n",
        "    print('2')\r\n",
        "else:\r\n",
        "    print('3')\r\n",
        "print('4')\r\n"
      ],
      "execution_count": null,
      "outputs": [
        {
          "output_type": "stream",
          "text": [
            "1\n",
            "2\n",
            "4\n"
          ],
          "name": "stdout"
        }
      ]
    },
    {
      "cell_type": "code",
      "metadata": {
        "colab": {
          "base_uri": "https://localhost:8080/"
        },
        "id": "bAVDpfzVtzf2",
        "outputId": "29bf130e-be12-47d1-a1ff-918492b126cc"
      },
      "source": [
        "# 110)\r\n",
        "if True:\r\n",
        "    if False:\r\n",
        "        print('1')\r\n",
        "        print('2')\r\n",
        "    else:\r\n",
        "        print('3')\r\n",
        "else:\r\n",
        "    print('4')\r\n",
        "print('5')"
      ],
      "execution_count": null,
      "outputs": [
        {
          "output_type": "stream",
          "text": [
            "3\n",
            "5\n"
          ],
          "name": "stdout"
        }
      ]
    },
    {
      "cell_type": "code",
      "metadata": {
        "colab": {
          "base_uri": "https://localhost:8080/"
        },
        "id": "cS8ENSz13eKP",
        "outputId": "5d338a22-1d30-4b6b-9f6d-2bd515e5a98c"
      },
      "source": [
        "# 111) 입력받은 문자열을 두번 출력하게 해라\r\n",
        "\r\n",
        "user = input('입력: ')\r\n",
        "print(user*2)\r\n"
      ],
      "execution_count": null,
      "outputs": [
        {
          "output_type": "stream",
          "text": [
            "여기에: 안녕\n",
            "안녕안녕\n"
          ],
          "name": "stdout"
        }
      ]
    },
    {
      "cell_type": "code",
      "metadata": {
        "colab": {
          "base_uri": "https://localhost:8080/"
        },
        "id": "s1u5bzEi3eF_",
        "outputId": "ee12cddf-0be4-444e-90bd-7d377baddd87"
      },
      "source": [
        "# 112) 숫자 입력받고 거기에 10 더하기\r\n",
        "\r\n",
        "user = input('숫자를 입력하세요: ')\r\n",
        "print(int(user)+10)\r\n",
        "# 입력 된 숫자가 str 타입으로 들어와서 int로 만들어주어야 함"
      ],
      "execution_count": null,
      "outputs": [
        {
          "output_type": "stream",
          "text": [
            "숫자를 입력하세요: 30\n",
            "40\n"
          ],
          "name": "stdout"
        }
      ]
    },
    {
      "cell_type": "code",
      "metadata": {
        "colab": {
          "base_uri": "https://localhost:8080/"
        },
        "id": "vs1KKTARIXrN",
        "outputId": "c38cd4e2-ba00-4b3c-a22b-4c9dfcfba470"
      },
      "source": [
        "# 113) 입력받은 값이 짝수/홀수 인지 판별\r\n",
        "\r\n",
        "user = input('짝수일까 홀수일까: ')\r\n",
        "if int(user) % 2 == 0:      # 2로 나눈 나머지가 0이라면 짝수\r\n",
        "    print('짝수')\r\n",
        "else:\r\n",
        "    print('홀수')\r\n"
      ],
      "execution_count": null,
      "outputs": [
        {
          "output_type": "stream",
          "text": [
            "짝수일까 홀수일까: 11\n",
            "홀수\n"
          ],
          "name": "stdout"
        }
      ]
    },
    {
      "cell_type": "code",
      "metadata": {
        "colab": {
          "base_uri": "https://localhost:8080/"
        },
        "id": "6a3M9kFaK5ih",
        "outputId": "410e339b-4a63-401c-9fdb-d9cfc6630d13"
      },
      "source": [
        "# 114) 입력 받은 값 + 20 / 단 225 넘으면 안됨\r\n",
        "\r\n",
        "user = input('입력값: ')\r\n",
        "\r\n",
        "result = int(user) + 20\r\n",
        "\r\n",
        "if result < 255:\r\n",
        "    print('출력값: ', result)\r\n",
        "else:\r\n",
        "    print('출력값: ', 255)"
      ],
      "execution_count": null,
      "outputs": [
        {
          "output_type": "stream",
          "text": [
            "입력값: 300\n",
            "출력값:  255\n"
          ],
          "name": "stdout"
        }
      ]
    },
    {
      "cell_type": "code",
      "metadata": {
        "colab": {
          "base_uri": "https://localhost:8080/"
        },
        "id": "IDadFbRRLnOB",
        "outputId": "ac66a628-787e-4c55-99c6-9a7851d8be24"
      },
      "source": [
        "# 115) 입력 받은 값 - 20 / 단 0~255 사이\r\n",
        "\r\n",
        "user = input('입력값: ')\r\n",
        "\r\n",
        "result = int(user) - 20 \r\n",
        "\r\n",
        "if result > 255 :\r\n",
        "    print('결과: ', 255)\r\n",
        "elif result < 0 :\r\n",
        "    print('결과: ', 0)\r\n",
        "else :\r\n",
        "    print('결과: ', result)"
      ],
      "execution_count": null,
      "outputs": [
        {
          "output_type": "stream",
          "text": [
            "입력값: 30\n",
            "결과:  10\n"
          ],
          "name": "stdout"
        }
      ]
    },
    {
      "cell_type": "code",
      "metadata": {
        "colab": {
          "base_uri": "https://localhost:8080/"
        },
        "id": "3h675QxZMp9c",
        "outputId": "f5e77a9e-07cc-4458-e10c-0d505f4911e9"
      },
      "source": [
        "# 116) 입력받은 시간이 정각인가?\r\n",
        "\r\n",
        "user = input('시간 입력 ')\r\n",
        "\r\n",
        "if user[3:] == '00' :\r\n",
        "    print('정각입니다.')\r\n",
        "else:\r\n",
        "    print('정각이 아닙니다.')"
      ],
      "execution_count": null,
      "outputs": [
        {
          "output_type": "stream",
          "text": [
            "시간 입력: 12:21\n",
            "정각이 아닙니다.\n"
          ],
          "name": "stdout"
        }
      ]
    },
    {
      "cell_type": "code",
      "metadata": {
        "colab": {
          "base_uri": "https://localhost:8080/"
        },
        "id": "eVESzcjyPTDc",
        "outputId": "e18240bb-556d-4817-9dee-1f8bfc79fcd0"
      },
      "source": [
        "# 117) 입력받은 단어가 리스트에 포함되어 있는가?\r\n",
        "\r\n",
        "fruit = ['체리', '망고', '블루베리', '천도복숭아']\r\n",
        "\r\n",
        "user = input('좋아하는 과일은? ')\r\n",
        "\r\n",
        "if user in fruit:\r\n",
        "    print('정답!')\r\n",
        "else:\r\n",
        "    print('아쉽!')"
      ],
      "execution_count": null,
      "outputs": [
        {
          "output_type": "stream",
          "text": [
            "좋아하는 과일은? 천도복숭아\n",
            "정답!\n"
          ],
          "name": "stdout"
        }
      ]
    },
    {
      "cell_type": "code",
      "metadata": {
        "colab": {
          "base_uri": "https://localhost:8080/"
        },
        "id": "4yuKvlzQQvIH",
        "outputId": "859b5e2c-660a-402b-f33d-ada5d0b08e2a"
      },
      "source": [
        "# 118) 입력받은 단어가 리스트에 있다면 경고문 출력\r\n",
        "\r\n",
        "warn_investment_list = ['Microsoft', 'Google', 'Naver', 'Kakao', 'Samsung', 'LG']\r\n",
        "\r\n",
        "user = input('투자할 종목: ')\r\n",
        "\r\n",
        "if user in warn_investment_list:\r\n",
        "     print('투자 경고 종목입니다.')\r\n",
        "else:\r\n",
        "    print('투자 경고 종목이 아닙니다.')"
      ],
      "execution_count": null,
      "outputs": [
        {
          "output_type": "stream",
          "text": [
            "투자할 종목: LG\n",
            "투자 경고 종목입니다.\n"
          ],
          "name": "stdout"
        }
      ]
    },
    {
      "cell_type": "code",
      "metadata": {
        "colab": {
          "base_uri": "https://localhost:8080/"
        },
        "id": "8r_yPwSiRdmE",
        "outputId": "2c725426-2003-4fba-fd1b-ce71195dfe61"
      },
      "source": [
        "# 119) 입력 받은 단어가 딕셔너리의 키 값인가?\r\n",
        "\r\n",
        "fruit = { '봄' : '딸기', '여름' : '복숭아', '가을' : '체리'}\r\n",
        "\r\n",
        "user = input('내가 좋아하는 계절은 ')\r\n",
        "\r\n",
        "if user in fruit:\r\n",
        "    print('정답!')\r\n",
        "else:\r\n",
        "    print('오답!')"
      ],
      "execution_count": null,
      "outputs": [
        {
          "output_type": "stream",
          "text": [
            "내가 좋아하는 계절은 봄\n",
            "정답!\n"
          ],
          "name": "stdout"
        }
      ]
    },
    {
      "cell_type": "code",
      "metadata": {
        "colab": {
          "base_uri": "https://localhost:8080/"
        },
        "id": "I2Yfk8sRTBd0",
        "outputId": "eb1a4696-f7a3-4d2c-8830-f22a412b0f5c"
      },
      "source": [
        "# 120) 입력 받은 단어가 딕셔너리의 밸류 값인가?\r\n",
        "\r\n",
        "fruit = { '봄' : '딸기', '여름' : '복숭아', '가을' : '체리'}\r\n",
        "\r\n",
        "user = input('내가 좋아하는 과일은 ')\r\n",
        "\r\n",
        "if user in fruit.values():\r\n",
        "    print('정답!')\r\n",
        "else: \r\n",
        "    print('오답!')"
      ],
      "execution_count": null,
      "outputs": [
        {
          "output_type": "stream",
          "text": [
            "내가 좋아하는 과일은 포도\n",
            "오답!\n"
          ],
          "name": "stdout"
        }
      ]
    },
    {
      "cell_type": "code",
      "metadata": {
        "colab": {
          "base_uri": "https://localhost:8080/"
        },
        "id": "IOmhHzRrVeif",
        "outputId": "096a6c17-3311-4f69-ba61-f953be54c330"
      },
      "source": [
        "# 121) 입력받은 문자가 소문자면 대문자, 대문자면 소문자로 출력\r\n",
        "\r\n",
        "user = input('입력: ')\r\n",
        "\r\n",
        "judge = user.islower()\r\n",
        "\r\n",
        "if judge == True:\r\n",
        "    print(user.upper())\r\n",
        "\r\n",
        "else:\r\n",
        "    print(user.lower())"
      ],
      "execution_count": null,
      "outputs": [
        {
          "output_type": "stream",
          "text": [
            "입력: APPLE\n",
            "apple\n"
          ],
          "name": "stdout"
        }
      ]
    },
    {
      "cell_type": "code",
      "metadata": {
        "colab": {
          "base_uri": "https://localhost:8080/"
        },
        "id": "Vc5-Q9Q-WfbX",
        "outputId": "2444e850-a4a3-476e-83f9-10b32c2d14d8"
      },
      "source": [
        "# 122) 입력받은 점수는 몇 학점일까요?\r\n",
        "\r\n",
        "user = input('점수 입력 ')\r\n",
        "\r\n",
        "if 0 <= int(user) <= 20:\r\n",
        "    print('E')\r\n",
        "elif 21 <= int(user) <= 40:\r\n",
        "    print('D')\r\n",
        "elif 41 <= int(user) <= 60:\r\n",
        "    print('C')\r\n",
        "elif 61 <= int(user) <= 80:\r\n",
        "    print('B')\r\n",
        "elif 81 <= int(user) <= 100:\r\n",
        "    print('A')"
      ],
      "execution_count": null,
      "outputs": [
        {
          "output_type": "stream",
          "text": [
            "점수 입력 100\n",
            "A\n"
          ],
          "name": "stdout"
        }
      ]
    },
    {
      "cell_type": "code",
      "metadata": {
        "colab": {
          "base_uri": "https://localhost:8080/"
        },
        "id": "ixsnSspcZhik",
        "outputId": "8ff30d54-1a63-411a-9e36-684d80fa5608"
      },
      "source": [
        "# 123) 입력한 금액과 통화종류에 환률을 적용해 한화로 바꾸자\r\n",
        "\r\n",
        "환율 = {'달러' : 1167,\\\r\n",
        "         '엔' : 1.096,\\\r\n",
        "        '유로' : 1268,\\\r\n",
        "        '위안' : 171}\r\n",
        "\r\n",
        "user = input('금액+통화종류: ')\r\n",
        "\r\n",
        "num, currency = user.split()\r\n",
        "print(float(num) * 환율[currency], '원')"
      ],
      "execution_count": null,
      "outputs": [
        {
          "output_type": "stream",
          "text": [
            "금액+통화종류: 45 위안\n",
            "7695.0 원\n"
          ],
          "name": "stdout"
        }
      ]
    },
    {
      "cell_type": "code",
      "metadata": {
        "colab": {
          "base_uri": "https://localhost:8080/"
        },
        "id": "BDLINbBuuIL5",
        "outputId": "6933c29b-0967-4f62-b36a-db0cb5a5f939"
      },
      "source": [
        "a = '앞부분과 뒷부분'\r\n",
        "num, currency = a.split('과 ')\r\n",
        "\r\n",
        "print(num)\r\n",
        "print(currency)\r\n",
        "\r\n",
        "b = '앞부분,뒷부분'\r\n",
        "front, back = b.split(',')\r\n",
        "\r\n",
        "print(num)\r\n",
        "print(currency)"
      ],
      "execution_count": null,
      "outputs": [
        {
          "output_type": "stream",
          "text": [
            "앞부분\n",
            "뒷부분\n",
            "앞부분\n",
            "뒷부분\n"
          ],
          "name": "stdout"
        }
      ]
    },
    {
      "cell_type": "code",
      "metadata": {
        "colab": {
          "base_uri": "https://localhost:8080/"
        },
        "id": "PG0OBGHlu37v",
        "outputId": "ba746076-ea48-4d38-9061-88e098ccca4a"
      },
      "source": [
        "# 124) 입력 받는 것중 가장 큰 값 출력\r\n",
        "import numpy as np\r\n",
        "user1 = input('number: ')\r\n",
        "user2 = input('number: ')\r\n",
        "user3 = input('number: ')\r\n",
        "\r\n",
        "a = [int(user1), int(user2), int(user3)]\r\n",
        "print(np.max(a))"
      ],
      "execution_count": null,
      "outputs": [
        {
          "output_type": "stream",
          "text": [
            "number: 2\n",
            "number: 4\n",
            "number: 7\n",
            "7\n"
          ],
          "name": "stdout"
        }
      ]
    },
    {
      "cell_type": "code",
      "metadata": {
        "colab": {
          "base_uri": "https://localhost:8080/"
        },
        "id": "o7FCHp2Uv2yh",
        "outputId": "823c7dbb-84ee-4e79-f94f-71f752d0bc09"
      },
      "source": [
        "# 125) 핸드폰 번호를 받아서 어느 통신사인지 반환\r\n",
        "\r\n",
        "user = input(' - 이 들어간 핸드폰 번호를 입력하세요. \\n')\r\n",
        "\r\n",
        "num = user.split('-')[0]\r\n",
        "\r\n",
        "if num == '011':\r\n",
        "    com = 'SKT'\r\n",
        "elif num == '016':\r\n",
        "    com = 'KT'\r\n",
        "elif num == '019':\r\n",
        "    com = 'LGU'\r\n",
        "else:\r\n",
        "    com = '알수 없음'\r\n",
        "\r\n",
        "print(f'당신은 {com} 사용자입니다.')"
      ],
      "execution_count": null,
      "outputs": [
        {
          "output_type": "stream",
          "text": [
            " - 이 들어간 핸드폰 번호를 입력하세요. \n",
            "016-1111-2222\n",
            "당신은 KT 사용자입니다.\n"
          ],
          "name": "stdout"
        }
      ]
    },
    {
      "cell_type": "code",
      "metadata": {
        "colab": {
          "base_uri": "https://localhost:8080/"
        },
        "id": "qZVnAnZf3o-N",
        "outputId": "d83efe90-f4db-49be-ba87-2be9dacc4cbc"
      },
      "source": [
        "# 126) 우편번호를 받아 지역을 반환해라\r\n",
        "\r\n",
        "user = input('우편번호를 입력하세요: \\n')\r\n",
        "num = user[:3]\r\n",
        "\r\n",
        "if num in ['010', '011', '012']:\r\n",
        "    local = '강북구'\r\n",
        "elif num in ['013', '014', '015']:\r\n",
        "    local = '도봉구'\r\n",
        "else:\r\n",
        "    local = '노원구'\r\n",
        "\r\n",
        "print(f'당신의 지역은 {local}입니다.')"
      ],
      "execution_count": null,
      "outputs": [
        {
          "output_type": "stream",
          "text": [
            "우편번호를 입력하세요: \n",
            "016\n",
            "당신의 지역은 노원구입니다.\n"
          ],
          "name": "stdout"
        }
      ]
    },
    {
      "cell_type": "code",
      "metadata": {
        "colab": {
          "base_uri": "https://localhost:8080/"
        },
        "id": "QiHmf-1U5bnI",
        "outputId": "2234f7b2-10b1-4d9f-a0a6-672f57fe2514"
      },
      "source": [
        "# 127) 주민번호 7번째 자리로 성별 반환하기\r\n",
        "\r\n",
        "user = input('주민등록번호: ')\r\n",
        "\r\n",
        "num = user[7]\r\n",
        "print(num)\r\n",
        "\r\n",
        "if num == '2' or num == '4':\r\n",
        "    print('여자')\r\n",
        "else:\r\n",
        "    print('남자')"
      ],
      "execution_count": null,
      "outputs": [
        {
          "output_type": "stream",
          "text": [
            "주민등록번호: 940513-1552200\n",
            "1\n",
            "남자\n"
          ],
          "name": "stdout"
        }
      ]
    },
    {
      "cell_type": "code",
      "metadata": {
        "colab": {
          "base_uri": "https://localhost:8080/"
        },
        "id": "C7Uf3DpC8QQX",
        "outputId": "5829d0e1-4b7f-4558-8a45-92b55ffa16ef"
      },
      "source": [
        "# 128) 주민번호에서 지역 반환하기\r\n",
        "\r\n",
        "user = input('주민등록번호: ')\r\n",
        "\r\n",
        "num = user.split('-')[1]\r\n",
        "\r\n",
        "if 0 <= int(num[2]) <= 8:\r\n",
        "    print('서울입니다.')\r\n",
        "else:\r\n",
        "    print('서울이 아닙니다.')"
      ],
      "execution_count": null,
      "outputs": [
        {
          "output_type": "stream",
          "text": [
            "주민등록번호: 930414-2049955\n",
            "서울입니다.\n"
          ],
          "name": "stdout"
        }
      ]
    },
    {
      "cell_type": "code",
      "metadata": {
        "colab": {
          "base_uri": "https://localhost:8080/"
        },
        "id": "kJW9NWVf_9fc",
        "outputId": "6ed99e35-358a-42e9-b1d8-16b9309ad8ab"
      },
      "source": [
        "# 129) 주민번호 마지막 숫자로 유효성 체크\r\n",
        "\r\n",
        "user = input('주민번호 입력: ')\r\n",
        "\r\n",
        "num1, num2 = user.split('-')\r\n",
        "\r\n",
        "set1 = np.array([2,3,4,5,6,7])\r\n",
        "set2 = np.array([8,9,2,3,4,5])\r\n",
        "\r\n",
        "for i in np.arange(0, 6)\r\n",
        "a = int(num1[i]) * set[i]\r\n",
        "b = np.sum(a)\r\n",
        "print(b)\r\n",
        "     \r\n",
        "print(a)"
      ],
      "execution_count": null,
      "outputs": [
        {
          "output_type": "stream",
          "text": [
            "주민번호 입력: 453657-4534565\n",
            "23\n"
          ],
          "name": "stdout"
        }
      ]
    },
    {
      "cell_type": "code",
      "metadata": {
        "colab": {
          "base_uri": "https://localhost:8080/",
          "height": 244
        },
        "id": "6HMOWNWtLBiG",
        "outputId": "f2a075d7-b9c1-482b-c0ba-0ced5a492f34"
      },
      "source": [
        "num1, num2 = user.split('-')\r\n",
        "\r\n",
        "set1 = np.array([2,3,4,5,6,7])\r\n",
        "set2 = np.array([8,9,2,3,4,5])\r\n",
        "\r\n",
        "\r\n",
        "for i in np.arange(0, 6):\r\n",
        "    a = int(num1[i]) * set1[i]\r\n",
        "    a = int(a)\r\n",
        "    sum += a\r\n",
        "    print(b)\r\n",
        "    "
      ],
      "execution_count": null,
      "outputs": [
        {
          "output_type": "error",
          "ename": "TypeError",
          "evalue": "ignored",
          "traceback": [
            "\u001b[0;31m---------------------------------------------------------------------------\u001b[0m",
            "\u001b[0;31mTypeError\u001b[0m                                 Traceback (most recent call last)",
            "\u001b[0;32m<ipython-input-170-7fcd7cff3dc5>\u001b[0m in \u001b[0;36m<module>\u001b[0;34m()\u001b[0m\n\u001b[1;32m      8\u001b[0m     \u001b[0ma\u001b[0m \u001b[0;34m=\u001b[0m \u001b[0mint\u001b[0m\u001b[0;34m(\u001b[0m\u001b[0mnum1\u001b[0m\u001b[0;34m[\u001b[0m\u001b[0mi\u001b[0m\u001b[0;34m]\u001b[0m\u001b[0;34m)\u001b[0m \u001b[0;34m*\u001b[0m \u001b[0mset1\u001b[0m\u001b[0;34m[\u001b[0m\u001b[0mi\u001b[0m\u001b[0;34m]\u001b[0m\u001b[0;34m\u001b[0m\u001b[0;34m\u001b[0m\u001b[0m\n\u001b[1;32m      9\u001b[0m     \u001b[0ma\u001b[0m \u001b[0;34m=\u001b[0m \u001b[0mint\u001b[0m\u001b[0;34m(\u001b[0m\u001b[0ma\u001b[0m\u001b[0;34m)\u001b[0m\u001b[0;34m\u001b[0m\u001b[0;34m\u001b[0m\u001b[0m\n\u001b[0;32m---> 10\u001b[0;31m     \u001b[0msum\u001b[0m \u001b[0;34m+=\u001b[0m \u001b[0ma\u001b[0m\u001b[0;34m\u001b[0m\u001b[0;34m\u001b[0m\u001b[0m\n\u001b[0m\u001b[1;32m     11\u001b[0m     \u001b[0mprint\u001b[0m\u001b[0;34m(\u001b[0m\u001b[0mb\u001b[0m\u001b[0;34m)\u001b[0m\u001b[0;34m\u001b[0m\u001b[0;34m\u001b[0m\u001b[0m\n\u001b[1;32m     12\u001b[0m \u001b[0;34m\u001b[0m\u001b[0m\n",
            "\u001b[0;31mTypeError\u001b[0m: unsupported operand type(s) for +=: 'builtin_function_or_method' and 'int'"
          ]
        }
      ]
    }
  ]
}