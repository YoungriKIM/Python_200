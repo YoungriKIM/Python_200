{
 "metadata": {
  "language_info": {
   "codemirror_mode": {
    "name": "ipython",
    "version": 3
   },
   "file_extension": ".py",
   "mimetype": "text/x-python",
   "name": "python",
   "nbconvert_exporter": "python",
   "pygments_lexer": "ipython3",
   "version": "3.8.5"
  },
  "orig_nbformat": 2,
  "kernelspec": {
   "name": "python385jvsc74a57bd0b18ecf447b39d25eae6a9ae9d5694327d58d99c869301a8afbbe0bb2ae2074bb",
   "display_name": "Python 3.8.5 64-bit (conda)"
  }
 },
 "nbformat": 4,
 "nbformat_minor": 2,
 "cells": [
  {
   "source": [
    "# 261~"
   ],
   "cell_type": "markdown",
   "metadata": {}
  },
  {
   "cell_type": "code",
   "execution_count": null,
   "metadata": {},
   "outputs": [],
   "source": [
    "# 주식 종목에 대한 정보를 저장하는 Stock 클래스를 정의해보세요. 클래스는 속성과 메서드를 갖고 있지 않습니다.\n",
    "\n",
    "class stock:\n",
    "    pass"
   ]
  },
  {
   "cell_type": "code",
   "execution_count": 1,
   "metadata": {},
   "outputs": [],
   "source": [
    "# Stock 클래스의 객체가 생성될 때 종목명과 종목코드를 입력 받을 수 있도록 생성자를 정의해보세요.\n",
    "\n",
    "# 삼성 = Stock(\"삼성전자\", \"005930\")\n",
    "\n",
    "class Stock:\n",
    "    def __init__(self, name, price):\n",
    "        self.name = name\n",
    "        self.price = price\n",
    "\n",
    "삼성 = Stock('삼전', '034540')\n"
   ]
  },
  {
   "cell_type": "code",
   "execution_count": 20,
   "metadata": {},
   "outputs": [
    {
     "output_type": "stream",
     "name": "stdout",
     "text": [
      "종목명: None, 가격: None\n종목명: 삼성전자, 가격: 034500\n"
     ]
    }
   ],
   "source": [
    "# 객체에 종목명을 입력할 수 있는 set_name 메서드를 추가해보세요.\n",
    "# 종목명과 종목코드를 리턴하는 get_name, get_code 메서드를 추가하세요. 해당 메서드를 사용하여 종목명과 종목코드를 얻고 이를 출력해보세요.\n",
    "\n",
    "class Stock:\n",
    "    def __init__(self, name, price):\n",
    "        self.name = name\n",
    "        self.price = price\n",
    "\n",
    "    def print(self):\n",
    "        print('종목명: {}, 가격: {}'.format(self.name, self.price))\n",
    "\n",
    "    def set_code(self, price):\n",
    "        self.price = price\n",
    "\n",
    "    def set_name(self, name):\n",
    "        self.name = name\n",
    "\n",
    "test = Stock(None, None)\n",
    "test.print()\n",
    "\n",
    "test.set_name('삼성전자')\n",
    "test.set_code('034500')\n",
    "\n",
    "test.print()"
   ]
  },
  {
   "cell_type": "code",
   "execution_count": 6,
   "metadata": {},
   "outputs": [
    {
     "output_type": "stream",
     "name": "stdout",
     "text": [
      "삼성전자\n005930\n삼성전자\n005930\n"
     ]
    }
   ],
   "source": [
    "# 객체의 속성값 업데이트\n",
    "# 생성자에서 종목명, 종목코드, PER, PBR, 배당수익률을 입력 받을 수 있도록 생성자를 수정하세요. PER, PBR, 배당수익률은 float 타입입니다.\n",
    "\n",
    "class Stock:\n",
    "    def __init__(self, name, code, per, pbr, dps):\n",
    "        self.name = name\n",
    "        self.code = code\n",
    "        self.per = per\n",
    "        self.pbr = pbr\n",
    "        self.dps = dps\n",
    "    \n",
    "    def set_name(self, name):\n",
    "        self.name = name\n",
    "\n",
    "    def set_code(self, code):\n",
    "        self.code = code\n",
    "\n",
    "    def get_name(self):\n",
    "        return self.name\n",
    "\n",
    "    def get_code(self):\n",
    "        return self.code\n",
    "\n",
    "삼성 = Stock(\"삼성전자\", \"005930\", None, None, None)\n",
    "print(삼성.name)\n",
    "print(삼성.code)\n",
    "print(삼성.get_name())\n",
    "print(삼성.get_code())"
   ]
  },
  {
   "cell_type": "code",
   "execution_count": 7,
   "metadata": {},
   "outputs": [
    {
     "output_type": "stream",
     "name": "stdout",
     "text": [
      "삼성전자\n"
     ]
    }
   ],
   "source": [
    "# 266번에서 정의한 생성자를 통해 다음 정보를 갖는 객체를 생성해보세요.\n",
    "\n",
    "class Stock:\n",
    "    def __init__(self, name, code, per, pbr, dps):\n",
    "        self.name = name\n",
    "        self.code = code\n",
    "        self.per = per\n",
    "        self.pbr = pbr\n",
    "        self.dps = dps\n",
    "    \n",
    "    def set_name(self, name):\n",
    "        self.name = name\n",
    "\n",
    "    def set_code(self, code):\n",
    "        self.code = code\n",
    "\n",
    "    def get_name(self):\n",
    "        return self.name\n",
    "\n",
    "    def get_code(self):\n",
    "        return self.code\n",
    "\n",
    "삼성 = Stock(\"삼성전자\", '005930', 15.79, 1.33, 2.83)\n",
    "print(삼성.name)\n",
    "print(삼성.code)\n",
    "print(삼성.per)\n",
    "print(삼성.pbr)\n",
    "print(삼성.name)"
   ]
  },
  {
   "cell_type": "code",
   "execution_count": 13,
   "metadata": {},
   "outputs": [
    {
     "output_type": "stream",
     "name": "stdout",
     "text": [
      "15.79\n12.75\n"
     ]
    }
   ],
   "source": [
    "# PER, PBR, 배당수익률은 변경될 수 있는 값입니다. 이 값을 변경할 때 사용하는 set_per, set_pbr, set_dividend 메서드를 추가하세요.\n",
    "\n",
    "class Stock:\n",
    "    def __init__(self, name, code, per, pbr, dps):\n",
    "        self.name = name\n",
    "        self.code = code\n",
    "        self.per = per\n",
    "        self.pbr = pbr\n",
    "        self.dps = dps\n",
    "    \n",
    "    def set_name(self, name):\n",
    "        self.name = name\n",
    "\n",
    "    def set_code(self, code):\n",
    "        self.code = code\n",
    "\n",
    "    def set_per(self, per):\n",
    "        self.per = per\n",
    "\n",
    "    def set_pbr(self, pbr):\n",
    "        self.pbr = pbr\n",
    "\n",
    "    def set_dps(self, dps):\n",
    "        self.dps = dps\n",
    "\n",
    "samsung = Stock(\"삼성전자\", \"005930\", 15.79, 1.33, 2.83)\n",
    "print(samsung.per)\n",
    "samsung.set_per(12.75)\n",
    "print(samsung.per)"
   ]
  },
  {
   "cell_type": "code",
   "execution_count": 33,
   "metadata": {},
   "outputs": [
    {
     "output_type": "stream",
     "name": "stdout",
     "text": [
      "이름: 삼성전자, 가격: 005930, PER: 15.79, PBR: 1.33, DPS: 2.83\n이름: 현대차, 가격: 00580, PER: 8.7, PBR: 0.35, DPS: 4.27\n이름: LG전자, 가격: 066570, PER: 317.34, PBR: 0.69, DPS: 1.37\n[<__main__.Stock object at 0x000001FC17F1DFD0>, <__main__.Stock object at 0x000001FC17F1DAF0>, <__main__.Stock object at 0x000001FC17F1D5B0>]\n삼성전자 005930\n현대차 00580\nLG전자 066570\n"
     ]
    }
   ],
   "source": [
    "# 아래의 표를 참조하여 3종목에 대해 객체를 생성하고 이를 파이썬 리스트에 저장하세요. 파이썬 리스트에 저장된 각 종목에 대해 for 루프를 통해 종목코드와 PER을 출력해보세요.\n",
    "\n",
    "class Stock:\n",
    "    def __init__(self, name, code, per, pbr, dps):\n",
    "        self.name = name\n",
    "        self.code = code\n",
    "        self.per = per\n",
    "        self.pbr = pbr\n",
    "        self.dps = dps\n",
    "    \n",
    "    def set_name(self, name):\n",
    "        self.name = name\n",
    "\n",
    "    def set_code(self, code):\n",
    "        self.code = code\n",
    "\n",
    "    def set_per(self, per):\n",
    "        self.per = per\n",
    "\n",
    "    def set_pbr(self, pbr):\n",
    "        self.pbr = pbr\n",
    "\n",
    "    def set_dps(self, dps):\n",
    "        self.dps = dps\n",
    "    \n",
    "    def print_all(self):\n",
    "        print('이름: {}, 가격: {}, PER: {}, PBR: {}, DPS: {}'.format(self.name, self.code, self.per, self.pbr, self.dps))\n",
    "\n",
    "\n",
    "samsung = Stock(\"삼성전자\", \"005930\", 15.79, 1.33, 2.83)\n",
    "hyundai = Stock(\"현대차\", \"00580\", 8.70, 0.35, 4.27)\n",
    "LGelec = Stock(\"LG전자\", \"066570\", 317.34, 0.69, 1.37)\n",
    "\n",
    "samsung.print_all()\n",
    "hyundai.print_all()\n",
    "LGelec.print_all()\n",
    "\n",
    "종목 = []\n",
    "\n",
    "종목.append(samsung)\n",
    "종목.append(hyundai)\n",
    "종목.append(LGelec)\n",
    "\n",
    "print(종목)\n",
    "\n",
    "for i in 종목:\n",
    "    print(i.name, i.code)\n"
   ]
  },
  {
   "source": [
    "# 271~"
   ],
   "cell_type": "markdown",
   "metadata": {}
  },
  {
   "cell_type": "code",
   "execution_count": 107,
   "metadata": {},
   "outputs": [
    {
     "output_type": "stream",
     "name": "stdout",
     "text": [
      "김영리\n10000\nSC은행\n270-59-974924\n1\n2\n"
     ]
    }
   ],
   "source": [
    "# 은행에 가서 계좌를 개설하면 은행이름, 예금주, 계좌번호, 잔액이 설정됩니다. Account 클래스를 생성한 후 생성자를 구현해보세요. 생성자에서는 예금주와 초기 잔액만 입력 받습니다. 은행이름은 SC은행으로 계좌번호는 3자리-2자리-6자리 형태로 랜덤하게 생성됩니다.\n",
    "\n",
    "import random\n",
    "\n",
    "class Account:\n",
    "    \n",
    "    account_count = 0\n",
    "\n",
    "    def __init__(self, name, balance):\n",
    "        self.name = name\n",
    "        self.balance = balance\n",
    "        self.bank = 'SC은행'\n",
    "        \n",
    "        # 3-2-6\n",
    "        num1 = random.randint(0, 999)\n",
    "        num2 = random.randint(0, 99)\n",
    "        num3 = random.randint(0, 999999)\n",
    "\n",
    "        num1 = str(num1).zfill(3)\n",
    "        num2 = str(num2).zfill(2)\n",
    "        num3 = str(num3).zfill(6)\n",
    "        self.account_number = num1 + '-' + num2 + '-' + num3\n",
    "        Account.account_count += 1\n",
    "\n",
    "    @classmethod        # class 모드임을 명시!!!\n",
    "    def account_count_num(cls):\n",
    "        print(cls.account_count) \n",
    "\n",
    "kim = Account('김영리', 10000)\n",
    "print(kim.name)\n",
    "print(kim.balance)\n",
    "print(kim.bank)\n",
    "print(kim.account_number)\n",
    "kim.account_count_num()\n",
    "\n",
    "choi = Account('최병희', 10000)\n",
    "choi.account_count_num()"
   ]
  },
  {
   "cell_type": "code",
   "execution_count": 173,
   "metadata": {},
   "outputs": [
    {
     "output_type": "stream",
     "name": "stdout",
     "text": [
      "10000\n입금 후 잔액: 10,200\n출금 후 잔액: 9,200\n----------\n은행이름 :SC은행\n예금주 :김영리\n계좌번호 :958-07-863892\n잔고 :9,200\n----------\n입금 후 잔액: 20,000\n입금 후 잔액: 30,000\n입금 후 잔액: 40,000\n입금 후 잔액: 45,000\n입금 후 잔액: 50,000\n50500.0\n"
     ]
    }
   ],
   "source": [
    "# Account 클래스에 입금을 위한 deposit 메서드를 추가하세요. 입금은 최소 1원 이상만 가능합니다.\n",
    "\n",
    "import random\n",
    "\n",
    "class Account:\n",
    "    account_count  = 0\n",
    "\n",
    "    def __init__(self, name, balance):\n",
    "        self.deposit_count = 0\n",
    "\n",
    "        self.name = name\n",
    "        self.balance = balance\n",
    "        self.bank = 'SC은행'\n",
    "        \n",
    "        # 3 - 2 - 6\n",
    "        num1 = random.randint(0, 999)\n",
    "        num2 = random.randint(0, 99)\n",
    "        num3 = random.randint(0, 999999)\n",
    "        num1 = str(num1).zfill(3)\n",
    "        num2 = str(num2).zfill(2)\n",
    "        num3 = str(num3).zfill(6)\n",
    "        self.account_number = num1+'-'+num2+'-'+num3\n",
    "\n",
    "        Account.account_count  += 1\n",
    "\n",
    "    @classmethod\n",
    "    def get_account_num(cls):\n",
    "        print(cls.account_count)\n",
    "\n",
    "    def deposit(self, deposit):\n",
    "        if deposit > 0 :\n",
    "            self.balance += deposit\n",
    "            print('입금 후 잔액: {:,}'.format(self.balance))\n",
    "\n",
    "            self.deposit_count += 1\n",
    "            if self.deposit_count % 5 == 0:\n",
    "                self.balance = (self.balance*1.01)\n",
    "\n",
    "        else: print('최소 1원 이상을 입금할 수 있습니다.')\n",
    "    \n",
    "    def withdraw(self, withdraw):\n",
    "        if withdraw <= self.balance:\n",
    "            self.balance -= withdraw\n",
    "            print('출금 후 잔액: {:,}'.format(self.balance))\n",
    "        else: print('잔액보다 많은 금액을 출금할 수 없습니다.')\n",
    "\n",
    "    def display_info(self):\n",
    "        print('은행이름 :{}'.format(self.bank))\n",
    "        print('예금주 :{}'.format(self.name))\n",
    "        print('계좌번호 :{}'.format(self.account_number))\n",
    "        print('잔고 :{:,}'.format(self.balance))\n",
    "\n",
    "\n",
    "kim = Account('김영리', 10000)\n",
    "print(kim.balance)\n",
    "choi = Account('최병희', 10000)\n",
    "kim.deposit(200)\n",
    "kim.withdraw(1000)\n",
    "print('-'*10)\n",
    "kim.display_info()\n",
    "print('-'*10)\n",
    "p = Account(\"파이썬\", 10000)\n",
    "p.deposit(10000)\n",
    "p.deposit(10000)\n",
    "p.deposit(10000)\n",
    "p.deposit(5000)\n",
    "p.deposit(5000)\n",
    "print(p.balance)\n"
   ]
  },
  {
   "cell_type": "code",
   "execution_count": 174,
   "metadata": {},
   "outputs": [
    {
     "output_type": "stream",
     "name": "stdout",
     "text": [
      "[<__main__.Account object at 0x000001FC194EF700>, <__main__.Account object at 0x000001FC194EF640>, <__main__.Account object at 0x000001FC194EF370>]\nuser1\n출금 후 잔액: 9,000\nuser2\n출금 후 잔액: 19,000\nuser3\n출금 후 잔액: 29,000\n"
     ]
    }
   ],
   "source": [
    "# Account 클래스로부터 3개 이상 인스턴스를 생성하고 생성된 인스턴스를 리스트에 저장해보세요.\n",
    "\n",
    "user1 = Account('user1', 10000)\n",
    "user2 = Account('user2', 20000)\n",
    "user3 = Account('user3', 30000)\n",
    "\n",
    "user_list = []\n",
    "\n",
    "user_list.append(user1)\n",
    "user_list.append(user2)\n",
    "user_list.append(user3)\n",
    "\n",
    "print(user_list)\n",
    "\n",
    "for i in user_list:\n",
    "    print(i.name)\n",
    "    i.withdraw(1000)\n"
   ]
  },
  {
   "cell_type": "code",
   "execution_count": 177,
   "metadata": {},
   "outputs": [
    {
     "output_type": "stream",
     "name": "stdout",
     "text": [
      "user5\n1200000\nuser7\n1000000\n"
     ]
    }
   ],
   "source": [
    "# 반복문을 통해 리스트에 있는 객체를 순회하면서 잔고가 100만원 이상인 고객의 정보만 출력하세요.\n",
    "\n",
    "user4 = Account('user4', 500000)\n",
    "user5 = Account('user5', 1200000)\n",
    "user6 = Account('user6', 900000)\n",
    "user7 = Account('user7', 1000000)\n",
    "\n",
    "user_list2 = []\n",
    "\n",
    "user_list2.append(user4)\n",
    "user_list2.append(user5)\n",
    "user_list2.append(user6)\n",
    "user_list2.append(user7)\n",
    "\n",
    "for i in user_list2:\n",
    "    threshhold = i.balance\n",
    "    if threshhold >= 1000000:\n",
    "        print(i.name);print(i.balance)\n",
    "    "
   ]
  },
  {
   "cell_type": "code",
   "execution_count": 188,
   "metadata": {},
   "outputs": [
    {
     "output_type": "stream",
     "name": "stdout",
     "text": [
      "100\n200\n300\n100\n200\n"
     ]
    }
   ],
   "source": [
    "# 입금과 출금 내역이 기록되도록 코드를 업데이트 하세요. 입금 내역과 출금 내역을 출력하는 deposit_history와 withdraw_history 메서드를 추가하세요.\n",
    "\n",
    "import random\n",
    "\n",
    "class Account:\n",
    "    account_count = 0\n",
    "\n",
    "    def __init__(self, name, balance):\n",
    "        Account.account_count +=1\n",
    "        self.deposit_count = 0\n",
    "        self.deposit_log = []\n",
    "        self.withdraw_log = []\n",
    "\n",
    "        self.name = name\n",
    "        self.balance = balance\n",
    "        self.bank = 'SC은행'\n",
    "        \n",
    "        # 3- 2- 6\n",
    "        num1 = random.randint(0, 999)\n",
    "        num2 = random.randint(0, 99)\n",
    "        num3 = random.randint(0, 999999)\n",
    "        num1 = str(num1).zfill(3)\n",
    "        num2 = str(num2).zfill(2)\n",
    "        num3 = str(num3).zfill(6)\n",
    "        self.account_number = num1+'-'+num2+'-'+num3\n",
    "\n",
    "    @classmethod\n",
    "    def get_count_num(cls):\n",
    "        print(cls.account_count)\n",
    "\n",
    "    def deposit(self, deposit):\n",
    "        if deposit > 0:\n",
    "            self.deposit_log.append(deposit)\n",
    "            self.balance += deposit\n",
    "\n",
    "            self.deposit_count += 1\n",
    "            if self.deposit_count % 5:\n",
    "                self.balance = (self.balance*1.01)\n",
    "\n",
    "    def withdraw(self, withdraw):\n",
    "        if withdraw < self.balance:\n",
    "            self.withdraw_log.append(withdraw)\n",
    "            self.balance -= withdraw\n",
    "\n",
    "    def deposit_hist(self):\n",
    "        for amount in self.deposit_log:\n",
    "            print(amount)\n",
    "\n",
    "    def withdraw_hist(self):\n",
    "        for amount in self.withdraw_log:\n",
    "            print(amount)\n",
    "\n",
    "    def display_info(self):\n",
    "        print('은행이름 :{}'.format(self.bank))\n",
    "        print('예금주 :{}'.format(self.name))\n",
    "        print('계좌번호 :{}'.format(self.account_number))\n",
    "        print('잔고 :{:,}'.format(self.balance))\n",
    "\n",
    "k = Account(\"Kim\", 1000)\n",
    "k.deposit(100)\n",
    "k.deposit(200)\n",
    "k.deposit(300)\n",
    "k.deposit_hist()\n",
    "\n",
    "k.withdraw(100)\n",
    "k.withdraw(200)\n",
    "k.withdraw_hist()"
   ]
  }
 ]
}