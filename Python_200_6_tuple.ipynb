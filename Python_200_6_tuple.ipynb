{
  "nbformat": 4,
  "nbformat_minor": 0,
  "metadata": {
    "colab": {
      "name": "Python_200_6_tuple",
      "provenance": [],
      "collapsed_sections": [],
      "authorship_tag": "ABX9TyNQtvhrqMRqTMWFx6GDi4T1",
      "include_colab_link": true
    },
    "kernelspec": {
      "name": "python3",
      "display_name": "Python 3"
    }
  },
  "cells": [
    {
      "cell_type": "markdown",
      "metadata": {
        "id": "view-in-github",
        "colab_type": "text"
      },
      "source": [
        "<a href=\"https://colab.research.google.com/github/YoungriKIM/Python_200/blob/main/Python_200_6_tuple.ipynb\" target=\"_parent\"><img src=\"https://colab.research.google.com/assets/colab-badge.svg\" alt=\"Open In Colab\"/></a>"
      ]
    },
    {
      "cell_type": "code",
      "metadata": {
        "colab": {
          "base_uri": "https://localhost:8080/"
        },
        "id": "yXEermIPHy29",
        "outputId": "07a75231-31ca-4f2d-d380-d6f5f44b5db4"
      },
      "source": [
        "# 71) 튜플을 만들어보삼 ============================\r\n",
        "my_variable = ()\r\n",
        "print(type(my_variable))        #<class 'tuple'>\r\n",
        "\r\n",
        "# 72) 여러개를 튜플에 넣으삼 ======================\r\n",
        "movie = ('우정리노트', '토깽뎐', '서리사막의 도둑들')\r\n",
        "print(movie)\r\n",
        "print(type(movie))              #<class 'tuple'>\r\n",
        "\r\n",
        "# 73) 숫자1이 저장된 튜플 ==========================\r\n",
        "num1 = (1)\r\n",
        "print(num1)\r\n",
        "print(type(num1))       # <class 'str'>\r\n",
        "\r\n",
        "num1 = ('1')\r\n",
        "print(num1)\r\n",
        "print(type(num1))       #<class 'str'>\r\n",
        "\r\n",
        "# 하나의 데이터만 저장할 경우 뒤에 ,를 찍어줘야 한다.\r\n",
        "num3 = (1,)\r\n",
        "print(num3)             #(1,)\r\n",
        "print(type(num3))       #<class 'tuple'>\r\n",
        "\r\n",
        "# 74) 튜플은 불변형 =============================\r\n",
        "t = (1, 2, 3)\r\n",
        "# t[0] = 'a'\r\n",
        "\r\n",
        "# Traceback (most recent call last):\r\n",
        "#   File \"<pyshell#46>\", line 1, in <module>\r\n",
        "#     t[0] = 'a'\r\n",
        "# TypeError: 'tuple' object does not support item assignment\r\n",
        "\r\n",
        "# 튜플은 리스트와 달리 불변형이다.\r\n",
        "\r\n",
        "# 75) () 괄호 안 하면 어떻게 될까 ==========================\r\n",
        "t = 1, 2, 3, 4\r\n",
        "print(type(t))          #<class 'tuple'>\r\n",
        "# 괄호 안 해도 알아서 튜플로 인식\r\n",
        "\r\n",
        "# 76) 튜플 안의 문자를 대문자로 =============================\r\n",
        "t = ('a', 'b', 'c')\r\n",
        "# 튜플은 수정이 불가능해서 그냥 새로 지정해주어야 한다.\r\n",
        "t = ('A', 'b', 'c')\r\n",
        "\r\n",
        "# 77) 튜플을 리스트로 list() =============================\r\n",
        "interest = ('삼성전자', 'LG전자', 'SK Hynix')\r\n",
        "interest2 = list(interest)\r\n",
        "print(type(interest2))      #<class 'list'>\r\n",
        "\r\n",
        "# 78) 리스트를 튜플로 tuple() ==============================\r\n",
        "interest3 = ['삼성전자', 'LG전자', 'SK Hynix']\r\n",
        "interest4 = tuple(interest3)\r\n",
        "print(type(interest4))      #<class 'tuple'>\r\n",
        "\r\n",
        "# 79) 튜플의 내용 변수로 지정해주기 ==============================\r\n",
        "temp = ('apple', 'banana', 'cake')\r\n",
        "a, b, c = temp\r\n",
        "print(a, b, c)      # apple banana cake\r\n",
        "\r\n",
        "# 80) 짝수만 저장하게하는 튜플 만들기 ===========================\r\n",
        "# (2, 4, 6, 8 ... 98)\r\n",
        "a = range(2, 99)\r\n",
        "b = a[::2]\r\n",
        "c = tuple(b)\r\n",
        "print(type(c))      # <class 'tuple'>\r\n",
        "print(c)            # (2, 4, 6, 8 ... 98)"
      ],
      "execution_count": 121,
      "outputs": [
        {
          "output_type": "stream",
          "text": [
            "<class 'tuple'>\n",
            "('우정리노트', '토깽뎐', '서리사막의 도둑들')\n",
            "<class 'tuple'>\n",
            "1\n",
            "<class 'int'>\n",
            "1\n",
            "<class 'str'>\n",
            "(1,)\n",
            "<class 'tuple'>\n",
            "<class 'tuple'>\n",
            "<class 'list'>\n",
            "<class 'tuple'>\n",
            "apple banana cake\n",
            "<class 'tuple'>\n",
            "(2, 4, 6, 8, 10, 12, 14, 16, 18, 20, 22, 24, 26, 28, 30, 32, 34, 36, 38, 40, 42, 44, 46, 48, 50, 52, 54, 56, 58, 60, 62, 64, 66, 68, 70, 72, 74, 76, 78, 80, 82, 84, 86, 88, 90, 92, 94, 96, 98)\n"
          ],
          "name": "stdout"
        }
      ]
    }
  ]
}