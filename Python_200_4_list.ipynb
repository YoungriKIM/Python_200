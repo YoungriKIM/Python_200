{
  "nbformat": 4,
  "nbformat_minor": 0,
  "metadata": {
    "colab": {
      "name": "Python_200_4_list",
      "provenance": [],
      "collapsed_sections": [],
      "authorship_tag": "ABX9TyNBXBmmEgP+/Q8mms/OE2Ti",
      "include_colab_link": true
    },
    "kernelspec": {
      "name": "python3",
      "display_name": "Python 3"
    }
  },
  "cells": [
    {
      "cell_type": "markdown",
      "metadata": {
        "id": "view-in-github",
        "colab_type": "text"
      },
      "source": [
        "<a href=\"https://colab.research.google.com/github/YoungriKIM/Python_200/blob/main/Python_200_4_list.ipynb\" target=\"_parent\"><img src=\"https://colab.research.google.com/assets/colab-badge.svg\" alt=\"Open In Colab\"/></a>"
      ]
    },
    {
      "cell_type": "code",
      "metadata": {
        "colab": {
          "base_uri": "https://localhost:8080/"
        },
        "id": "yXEermIPHy29",
        "outputId": "6a8147d9-5c61-420d-a7d8-14f2ef3e45b7"
      },
      "source": [
        "# 51) 리스트 생성 =========================\r\n",
        "movie_rank=['오션스8', '델마', '인비저블맨']\r\n",
        "print(movie_rank)\r\n",
        "                                        #['오션스8', '델마', '인비저블맨']\r\n",
        "\r\n",
        "# 52) 리스트에 추가 append ==================\r\n",
        "movie_rank.append('서리사막의 도둑들')\r\n",
        "print(movie_rank)                      #['오션스8', '델마', '인비저블맨', '서리사막의 도둑들']\r\n",
        "\r\n",
        "# 53) 원하는 위치에 추가 insert ===================\r\n",
        "movie_rank.insert(1, '토깽뎐')\r\n",
        "print(movie_rank)                      #['오션스8', '토깽뎐', '델마', '인비저블맨', '서리사막의 도둑들']\r\n",
        "\r\n",
        "# 54) 원하는 것만 삭제하기 ======================\r\n",
        "del movie_rank[2]                      #['오션스8', '토깽뎐', '인비저블맨', '서리사막의 도둑들']\r\n",
        "print(movie_rank)\r\n",
        "del movie_rank[2]   # 삭제하고 나서의 리스트 순서를 고려\r\n",
        "print(movie_rank)                      #['오션스8', '토깽뎐', '서리사막의 도둑들']\r\n",
        "\r\n",
        "# 56) 리스트 더하기 + =========================\r\n",
        "lang1 = [\"C\", \"C++\", \"JAVA\"]\r\n",
        "lang2 = [\"Python\", \"Go\", \"C#\"]\r\n",
        "lang3 = lang1 + lang2\r\n",
        "print(lang3)        #['C', 'C++', 'JAVA', 'Python', 'Go', 'C#']\r\n",
        "\r\n",
        "# 57) 리스트 안의 최대 최소 반환 max min ===========================\r\n",
        "nums = [1, 2, 3, 4, 5, 6, 7]\r\n",
        "print('max: ', max(nums))       # max:  7\r\n",
        "print('min: ', min(nums))       # min:  1\r\n",
        "\r\n",
        "# 58) 리스트 안 요소를 합하자 sum ===========================\r\n",
        "nums2 = [1, 2, 3, 4, 5]\r\n",
        "print('sum: ', sum(nums2))      # sum:  15\r\n",
        "\r\n",
        "# 59) 리스트 안의 데이터 개수 구하기 ============================\r\n",
        "cook = [\"피자\", \"김밥\", \"만두\", \"양념치킨\", \"족발\", \"피자\", \"김치만두\", \"쫄면\", \"쏘세지\", \"라면\", \"팥빙수\", \"김치전\"]\r\n",
        "print(len(cook))        #12\r\n",
        "\r\n",
        "# 60) 리스트의 평균 구하기 ===============================\r\n",
        "nums3 = [1, 2, 3, 4, 5]\r\n",
        "print(sum(nums3)/len(nums3))        #3.0"
      ],
      "execution_count": 87,
      "outputs": [
        {
          "output_type": "stream",
          "text": [
            "['오션스8', '델마', '인비저블맨']\n",
            "['오션스8', '델마', '인비저블맨', '서리사막의 도둑들']\n",
            "['오션스8', '토깽뎐', '델마', '인비저블맨', '서리사막의 도둑들']\n",
            "['오션스8', '토깽뎐', '인비저블맨', '서리사막의 도둑들']\n",
            "['오션스8', '토깽뎐', '서리사막의 도둑들']\n",
            "['C', 'C++', 'JAVA', 'Python', 'Go', 'C#']\n",
            "max:  7\n",
            "min:  1\n",
            "sum:  15\n",
            "12\n",
            "3.0\n"
          ],
          "name": "stdout"
        }
      ]
    }
  ]
}