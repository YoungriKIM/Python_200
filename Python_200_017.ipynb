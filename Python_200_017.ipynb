{
 "metadata": {
  "language_info": {
   "codemirror_mode": {
    "name": "ipython",
    "version": 3
   },
   "file_extension": ".py",
   "mimetype": "text/x-python",
   "name": "python",
   "nbconvert_exporter": "python",
   "pygments_lexer": "ipython3",
   "version": "3.8.5"
  },
  "orig_nbformat": 2,
  "kernelspec": {
   "name": "python385jvsc74a57bd0b18ecf447b39d25eae6a9ae9d5694327d58d99c869301a8afbbe0bb2ae2074bb",
   "display_name": "Python 3.8.5 64-bit (conda)"
  }
 },
 "nbformat": 4,
 "nbformat_minor": 2,
 "cells": [
  {
   "source": [
    "# 281~"
   ],
   "cell_type": "markdown",
   "metadata": {}
  },
  {
   "cell_type": "code",
   "execution_count": 10,
   "metadata": {},
   "outputs": [
    {
     "output_type": "stream",
     "name": "stdout",
     "text": [
      "2\n1000\n"
     ]
    }
   ],
   "source": [
    "# 다음 코드가 동작하도록 차 클래스를 정의하세요.\n",
    "\n",
    "# >> car = 차(2, 1000)\n",
    "# >> car.바퀴\n",
    "# 2\n",
    "# >> car.가격\n",
    "# 1000\n",
    "\n",
    "class car:\n",
    "    def __init__(self, wheel, price):\n",
    "        self.wheel = wheel\n",
    "        self.price = price\n",
    "\n",
    "volvo = car(2, 1000)\n",
    "print(volvo.wheel)\n",
    "print(volvo.price)"
   ]
  },
  {
   "cell_type": "code",
   "execution_count": 14,
   "metadata": {},
   "outputs": [
    {
     "output_type": "execute_result",
     "data": {
      "text/plain": [
       "4000"
      ]
     },
     "metadata": {},
     "execution_count": 14
    }
   ],
   "source": [
    "# 클래스 상속\n",
    "# 차 클래스를 상속받은 자전차 클래스를 정의하세요.\n",
    "\n",
    "class bicycle(car):\n",
    "    pass\n",
    "\n",
    "twowheel = bicycle(2, 4000)\n",
    "twowheel.price"
   ]
  },
  {
   "cell_type": "code",
   "execution_count": 19,
   "metadata": {},
   "outputs": [
    {
     "output_type": "stream",
     "name": "stdout",
     "text": [
      "시마노\n"
     ]
    }
   ],
   "source": [
    "# 다음 코드가 동작하도록 자전차 클래스를 정의하세요. 단 자전차 클래스는 차 클래스를 상속받습니다.\n",
    "\n",
    "class bicycle(car):\n",
    "    def __init__(self, wheel, price, drive):\n",
    "        super().__init__(wheel, price)\n",
    "        self.drive = drive\n",
    "\n",
    "bicycle = bicycle(2, 100, \"시마노\")\n",
    "print(bicycle.drive)"
   ]
  },
  {
   "cell_type": "code",
   "execution_count": 20,
   "metadata": {},
   "outputs": [
    {
     "output_type": "execute_result",
     "data": {
      "text/plain": [
       "'내가살거야'"
      ]
     },
     "metadata": {},
     "execution_count": 20
    }
   ],
   "source": [
    "# 다음 코드가 동작하도록 차 클래스를 상속받는 자동차 클래스를 정의하세요.\n",
    "\n",
    "class car2(car):\n",
    "    def __init__(self, wheel, price, drive, info):\n",
    "        super().__init__(wheel, price)\n",
    "        self.dirve = drive\n",
    "        self.info = info\n",
    "    \n",
    "Porsche = car2(4, 1000, '구동계', '내가살거야')\n",
    "Porsche.info"
   ]
  },
  {
   "cell_type": "code",
   "execution_count": 21,
   "metadata": {},
   "outputs": [
    {
     "output_type": "stream",
     "name": "stdout",
     "text": [
      "자식호출\n"
     ]
    }
   ],
   "source": [
    "# 다음 코드의 실행 결과를 예상해보세요.\n",
    "\n",
    "class 부모:\n",
    "  def 호출(self):\n",
    "    print(\"부모호출\")\n",
    "\n",
    "class 자식(부모):\n",
    "  def 호출(self):\n",
    "    print(\"자식호출\")\n",
    "\n",
    "나 = 자식()\n",
    "나.호출()\n",
    "\n",
    "# 자식호출"
   ]
  },
  {
   "cell_type": "code",
   "execution_count": 22,
   "metadata": {},
   "outputs": [
    {
     "output_type": "stream",
     "name": "stdout",
     "text": [
      "자식생성\n"
     ]
    }
   ],
   "source": [
    "# 다음 코드의 실행 결과를 예상해보세요.\n",
    "\n",
    "class 부모:\n",
    "  def __init__(self):\n",
    "    print(\"부모생성\")\n",
    "\n",
    "class 자식(부모):\n",
    "  def __init__(self):\n",
    "    print(\"자식생성\")\n",
    "\n",
    "나 = 자식()\n",
    "\n",
    "#자식생성"
   ]
  },
  {
   "cell_type": "code",
   "execution_count": 23,
   "metadata": {},
   "outputs": [
    {
     "output_type": "stream",
     "name": "stdout",
     "text": [
      "자식생성\n부모생성\n"
     ]
    }
   ],
   "source": [
    "# 290 부모클래스 생성자 호출\n",
    "# 다음 코드의 실행 결과를 예상해보세요.\n",
    "\n",
    "class 부모:\n",
    "  def __init__(self):\n",
    "    print(\"부모생성\")\n",
    "\n",
    "class 자식(부모):\n",
    "  def __init__(self):\n",
    "    print(\"자식생성\")\n",
    "    super().__init__()\n",
    "\n",
    "나 = 자식()\n",
    "\n",
    "# 자식생성\n",
    "# 부모생성"
   ]
  }
 ]
}