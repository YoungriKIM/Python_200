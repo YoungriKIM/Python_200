{
 "metadata": {
  "language_info": {
   "codemirror_mode": {
    "name": "ipython",
    "version": 3
   },
   "file_extension": ".py",
   "mimetype": "text/x-python",
   "name": "python",
   "nbconvert_exporter": "python",
   "pygments_lexer": "ipython3",
   "version": "3.8.5"
  },
  "orig_nbformat": 2,
  "kernelspec": {
   "name": "python385jvsc74a57bd0b18ecf447b39d25eae6a9ae9d5694327d58d99c869301a8afbbe0bb2ae2074bb",
   "display_name": "Python 3.8.5 64-bit (conda)"
  }
 },
 "nbformat": 4,
 "nbformat_minor": 2,
 "cells": [
  {
   "source": [
    "# 191~"
   ],
   "cell_type": "markdown",
   "metadata": {}
  },
  {
   "cell_type": "code",
   "execution_count": 8,
   "metadata": {},
   "outputs": [
    {
     "output_type": "stream",
     "name": "stdout",
     "text": [
      "2000.28\n3050.427\n2050.2870000000003\n1980.2772\n7501.05\n2050.2870000000003\n2050.2870000000003\n1980.2772\n15452.163\n15052.107\n15552.177\n14902.086000000001\n"
     ]
    }
   ],
   "source": [
    "# data에는 매수한 종목들의 OHLC (open/high/low/close) 가격 정보가 바인딩 되어있다.\n",
    "\n",
    "data = [\n",
    "    [ 2000,  3050,  2050,  1980],\n",
    "    [ 7500,  2050,  2050,  1980],\n",
    "    [15450, 15050, 15550, 14900]\n",
    "]\n",
    "\n",
    "# 수수료를 0.014 %로 가정할 때, 각 가격에 수수료를 포함한 가격을 한라인에 하나씩 출력하라.\n",
    "\n",
    "tax = 1.00014\n",
    "for row in data:\n",
    "    for col in row:\n",
    "        print(col * tax) "
   ]
  },
  {
   "cell_type": "code",
   "execution_count": 9,
   "metadata": {},
   "outputs": [
    {
     "output_type": "stream",
     "name": "stdout",
     "text": [
      "2000.28\n3050.427\n2050.2870000000003\n1980.2772\n-----\n7501.05\n2050.2870000000003\n2050.2870000000003\n1980.2772\n-----\n15452.163\n15052.107\n15552.177\n14902.086000000001\n-----\n"
     ]
    }
   ],
   "source": [
    "# 191번의 출력 결과에 행단위로 \"----\" 구분자를 추가하라.\n",
    "\n",
    "data = [\n",
    "    [ 2000,  3050,  2050,  1980],\n",
    "    [ 7500,  2050,  2050,  1980],\n",
    "    [15450, 15050, 15550, 14900]\n",
    "]\n",
    "\n",
    "tax = 1.00014\n",
    "for row in data:\n",
    "    for col in row:\n",
    "        print(col * tax)\n",
    "    print('-'*5)"
   ]
  },
  {
   "source": [
    "# 192 번 문제의 결괏값을 result 이름의 리스트에 1차원 배열로 저장하라.\n",
    "\n",
    "data = [\n",
    "    [ 2000,  3050,  2050,  1980],\n",
    "    [ 7500,  2050,  2050,  1980],\n",
    "    [15450, 15050, 15550, 14900]\n",
    "]\n",
    "\n",
    "tax = 1.00014\n",
    "result = []\n",
    "for row in data:\n",
    "    for col in row:\n",
    "        result.append(col*tax)\n",
    "print(result)"
   ],
   "cell_type": "code",
   "metadata": {},
   "execution_count": 10,
   "outputs": [
    {
     "output_type": "stream",
     "name": "stdout",
     "text": [
      "[2000.28, 3050.427, 2050.2870000000003, 1980.2772, 7501.05, 2050.2870000000003, 2050.2870000000003, 1980.2772, 15452.163, 15052.107, 15552.177, 14902.086000000001]\n"
     ]
    }
   ]
  },
  {
   "cell_type": "code",
   "execution_count": 16,
   "metadata": {},
   "outputs": [
    {
     "output_type": "stream",
     "name": "stdout",
     "text": [
      "100\n190\n310\n"
     ]
    }
   ],
   "source": [
    "# ohlc 리스트에는 시가(open), 고가 (high), 저가 (low) , 종가(close)가 날짜별로 저장돼 있다. 화면에 종가데이터를 출력하라.\n",
    "\n",
    "ohlc = [[\"open\", \"high\", \"low\", \"close\"],\n",
    "        [100, 110, 70, 100],\n",
    "        [200, 210, 180, 190],\n",
    "        [300, 310, 300, 310]]\n",
    "\n",
    "for row in ohlc[1:]:\n",
    "    for col in row[-1:]:\n",
    "        print(col)"
   ]
  },
  {
   "cell_type": "code",
   "execution_count": 18,
   "metadata": {},
   "outputs": [
    {
     "output_type": "stream",
     "name": "stdout",
     "text": [
      "190\n310\n190\n310\n"
     ]
    }
   ],
   "source": [
    "# ohlc 리스트에는 시가(open), 고가 (high), 저가 (low) , 종가(close)가 날짜별로 저장돼 있다. 종가가 150원보다 큰경우에만 종가를 출력하라.\n",
    "\n",
    "ohlc = [[\"open\", \"high\", \"low\", \"close\"],\n",
    "        [100, 110, 70, 100],\n",
    "        [200, 210, 180, 190],\n",
    "        [300, 310, 300, 310]]\n",
    "\n",
    "for row in ohlc[1:]:\n",
    "    for col in row[-1:]:\n",
    "        if col > 150:\n",
    "            print(col)\n",
    "\n",
    "for row in ohlc[1:]:\n",
    "    if row[3] > 150:\n",
    "        print(row[3])"
   ]
  },
  {
   "cell_type": "code",
   "execution_count": 20,
   "metadata": {},
   "outputs": [
    {
     "output_type": "stream",
     "name": "stdout",
     "text": [
      "[40, 30, 10]\n"
     ]
    }
   ],
   "source": [
    "# ohlc 리스트에는 시가(open), 고가 (high), 저가 (low) , 종가(close)가 날짜별로 저장돼 있다. 고가와 저가의 차이를 변동폭으로 정의할 때 변동폭을 volatility 이름의 리스트에 저장하라.\n",
    "\n",
    "ohlc = [[\"open\", \"high\", \"low\", \"close\"],\n",
    "        [100, 110, 70, 100],\n",
    "        [200, 210, 180, 190],\n",
    "        [300, 310, 300, 310]]\n",
    "\n",
    "# gap = row[2]-row[1]\n",
    "\n",
    "gap = []\n",
    "for row in ohlc[1:]:\n",
    "    gap.append(row[1]-row[2])\n",
    "print(gap)"
   ]
  },
  {
   "cell_type": "code",
   "execution_count": 22,
   "metadata": {},
   "outputs": [
    {
     "output_type": "stream",
     "name": "stdout",
     "text": [
      "0\n"
     ]
    }
   ],
   "source": [
    "# 리스트에는 3일 간의 ohlc 데이터가 저장돼 있다. 시가에 매수해서 종가에 매도 했을 경우 총 수익금을 계산하라.\n",
    "\n",
    "ohlc = [[\"open\", \"high\", \"low\", \"close\"],\n",
    "        [100, 110, 70, 100],\n",
    "        [200, 210, 180, 190],\n",
    "        [300, 310, 300, 310]]\n",
    "\n",
    "# profit = row[0]-row[-1]\n",
    "\n",
    "profit = 0\n",
    "for row in ohlc[1:]:\n",
    "    profit += (row[-1]-row[0])\n",
    "print(profit)"
   ]
  }
 ]
}