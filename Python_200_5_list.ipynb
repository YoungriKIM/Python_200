{
  "nbformat": 4,
  "nbformat_minor": 0,
  "metadata": {
    "colab": {
      "name": "Python_200_5_list",
      "provenance": [],
      "collapsed_sections": [],
      "authorship_tag": "ABX9TyM1EskfCJPLpzDNLtukkNHe",
      "include_colab_link": true
    },
    "kernelspec": {
      "name": "python3",
      "display_name": "Python 3"
    }
  },
  "cells": [
    {
      "cell_type": "markdown",
      "metadata": {
        "id": "view-in-github",
        "colab_type": "text"
      },
      "source": [
        "<a href=\"https://colab.research.google.com/github/YoungriKIM/Python_200/blob/main/Python_200_5_list.ipynb\" target=\"_parent\"><img src=\"https://colab.research.google.com/assets/colab-badge.svg\" alt=\"Open In Colab\"/></a>"
      ]
    },
    {
      "cell_type": "code",
      "metadata": {
        "id": "yXEermIPHy29"
      },
      "source": [
        "# 61) 슬라이싱 =======================\r\n",
        "price = ['20180728', 100, 130, 140, 150, 160, 170]\r\n",
        "print(price[1:])\r\n",
        "\r\n",
        "# 62) 슬라이싱+오프셋 ========================\r\n",
        "# 홀수만 반환\r\n",
        "nums = [1, 2, 3, 4, 5, 6, 7, 8, 9, 10]\r\n",
        "print(nums[::2])        #[1, 3, 5, 7, 9]\r\n",
        "\r\n",
        "# 짝수만 반환\r\n",
        "print(nums[1::2])       #[2, 4, 6, 8, 10]\r\n",
        "\r\n",
        "# 역으로 반환\r\n",
        "print(nums[::-1])       #[10, 9, 8, 7, 6, 5, 4, 3, 2, 1]\r\n",
        "\r\n",
        "# 65) 원하는 것만 반환 ==========================\r\n",
        "interest = ['삼성전자', 'LG전자', 'Naver']\r\n",
        "print(interest[0], interest[2])\r\n",
        "\r\n",
        "# 66) join  =============================\r\n",
        "interest = ['삼성전자', 'LG전자', 'Naver', 'SK하이닉스', '미래에셋대우']\r\n",
        "print(' '.join(interest))   #삼성전자 LG전자 Naver SK하이닉스 미래에셋대우\r\n",
        "# ' ' 을 중간에 놓고 붙이겠다.\r\n",
        "print('/'.join(interest))   #삼성전자/LG전자/Naver/SK하이닉스/미래에셋대우\r\n",
        "# '/' 을 중간에 놓고 붙이겠다.\r\n",
        "print('\\n'.join(interest))\r\n",
        "# 삼성전자\r\n",
        "# LG전자\r\n",
        "# Naver\r\n",
        "# SK하이닉스\r\n",
        "# 미래에셋대우\r\n",
        "\r\n",
        "# 69) split 으로 나눠야쥐 ================================= \r\n",
        "string = \"삼성전자/LG전자/Naver\"\r\n",
        "print(string.split('/'))        #['삼성전자', 'LG전자', 'Naver']\r\n",
        "\r\n",
        "# 70) 리스트 정렬하기 sort ===============================\r\n",
        "data = [2, 4, 3, 1, 5, 10, 9]\r\n",
        "data.sort()\r\n",
        "print(data)                 #[1, 2, 3, 4, 5, 9, 10]\r\n",
        "\r\n",
        "data2 = [2, 4, 3, 1, 5, 10, 9]\r\n",
        "data3 = sorted(data2)\r\n",
        "print(data3)                #[1, 2, 3, 4, 5, 9, 10]\r\n",
        "\r\n"
      ],
      "execution_count": null,
      "outputs": []
    }
  ]
}