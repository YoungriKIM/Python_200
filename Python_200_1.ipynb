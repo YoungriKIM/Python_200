{
  "nbformat": 4,
  "nbformat_minor": 0,
  "metadata": {
    "colab": {
      "name": "Python_200_1",
      "provenance": [],
      "collapsed_sections": [],
      "authorship_tag": "ABX9TyO0dYdCQqFw3AVxAMLovdq5",
      "include_colab_link": true
    },
    "kernelspec": {
      "name": "python3",
      "display_name": "Python 3"
    }
  },
  "cells": [
    {
      "cell_type": "markdown",
      "metadata": {
        "id": "view-in-github",
        "colab_type": "text"
      },
      "source": [
        "<a href=\"https://colab.research.google.com/github/YoungriKIM/Python_200/blob/main/Python_200_1.ipynb\" target=\"_parent\"><img src=\"https://colab.research.google.com/assets/colab-badge.svg\" alt=\"Open In Colab\"/></a>"
      ]
    },
    {
      "cell_type": "code",
      "metadata": {
        "colab": {
          "base_uri": "https://localhost:8080/",
          "height": 107
        },
        "id": "yXEermIPHy29",
        "outputId": "a0cd9410-674e-4221-82b4-767467a68091"
      },
      "source": [
        "\r\n",
        "# 8) 문자 사이에 sep을 배치 =======================================\r\n",
        "print('naver','kakao','sk','samsung',sep='/')\r\n",
        "# naver/kakao/sk/samsung\r\n",
        "\r\n",
        "# 9) 프린트 end =======================================\r\n",
        "print(\"first\");print(\"second\")\r\n",
        "# first\r\n",
        "# second\r\n",
        "print(\"first\", end=' ');print(\"second\")\r\n",
        "# first second\r\n",
        "print(\"first\", end='\\n');print(\"second\")\r\n",
        "# first\r\n",
        "# second\r\n",
        "\r\n",
        "# 13) 문자열 출력 =======================================\r\n",
        "s = \"hello\"\r\n",
        "t = \"python\"\r\n",
        "print(s+'!', t)\r\n",
        "# hello! python\r\n",
        "\r\n",
        "# 16) 문자열 정수로 변환 =======================================\r\n",
        "num_str = \"720\"\r\n",
        "print(type(num_str))    #<class 'str'>\r\n",
        "num_int = int(num_str)\r\n",
        "\r\n",
        "print(num_int)          # 720\r\n",
        "print(type(num_int))    # <class 'int'>\r\n"
      ],
      "execution_count": 61,
      "outputs": [
        {
          "output_type": "stream",
          "text": [
            "Cloning into 'Python_200'...\n",
            "warning: You appear to have cloned an empty repository.\n"
          ],
          "name": "stdout"
        },
        {
          "output_type": "execute_result",
          "data": {
            "application/vnd.google.colaboratory.intrinsic+json": {
              "type": "string"
            },
            "text/plain": [
              "'\\n# 8) 문자 사이에 sep을 배치 =======================================\\nprint(\\'naver\\',\\'kakao\\',\\'sk\\',\\'samsung\\',sep=\\'/\\')\\n# naver/kakao/sk/samsung\\n\\n# 9) 프린트 end =======================================\\nprint(\"first\");print(\"second\")\\n# first\\n# second\\nprint(\"first\", end=\\' \\');print(\"second\")\\n# first second\\nprint(\"first\", end=\\'\\n\\');print(\"second\")\\n# first\\n# second\\n\\n# 13) 문자열 출력 =======================================\\ns = \"hello\"\\nt = \"python\"\\nprint(s+\\'!\\', t)\\n# hello! python\\n\\n# 16) 문자열 정수로 변환 =======================================\\nnum_str = \"720\"\\nprint(type(num_str))    #<class \\'str\\'>\\nnum_int = int(num_str)\\n\\nprint(num_int)          # 720\\nprint(type(num_int))    # <class \\'int\\'>\\n\\n'"
            ]
          },
          "metadata": {
            "tags": []
          },
          "execution_count": 61
        }
      ]
    }
  ]
}