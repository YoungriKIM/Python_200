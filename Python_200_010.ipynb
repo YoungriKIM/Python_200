{
 "metadata": {
  "language_info": {
   "codemirror_mode": {
    "name": "ipython",
    "version": 3
   },
   "file_extension": ".py",
   "mimetype": "text/x-python",
   "name": "python",
   "nbconvert_exporter": "python",
   "pygments_lexer": "ipython3",
   "version": "3.8.5"
  },
  "orig_nbformat": 2,
  "kernelspec": {
   "name": "python385jvsc74a57bd0b18ecf447b39d25eae6a9ae9d5694327d58d99c869301a8afbbe0bb2ae2074bb",
   "display_name": "Python 3.8.5 64-bit ('base': conda)"
  }
 },
 "nbformat": 4,
 "nbformat_minor": 2,
 "cells": [
  {
   "source": [
    "## 131~140"
   ],
   "cell_type": "markdown",
   "metadata": {}
  },
  {
   "cell_type": "code",
   "execution_count": 49,
   "metadata": {},
   "outputs": [
    {
     "output_type": "stream",
     "name": "stdout",
     "text": [
      "사과\n귤\n수박\n"
     ]
    }
   ],
   "source": [
    "import numpy as np\r\n",
    "\r\n",
    "fruits = ['사과', '귤', '수박']\r\n",
    "for i in fruits:\r\n",
    "    print(i)\r\n",
    "\r\n",
    "# 하나씩 세줄에 걸쳐 나오겠지"
   ]
  },
  {
   "cell_type": "code",
   "execution_count": 50,
   "metadata": {},
   "outputs": [
    {
     "output_type": "stream",
     "name": "stdout",
     "text": [
      "####\n####\n####\n"
     ]
    }
   ],
   "source": [
    "import numpy as np\n",
    "\n",
    "fruits = ['사과', '귤', '수박']\n",
    "for i in fruits:\n",
    "    print('####')\n",
    "\n",
    "# 세 번 나오겠쥬"
   ]
  },
  {
   "cell_type": "code",
   "execution_count": 51,
   "metadata": {},
   "outputs": [
    {
     "output_type": "stream",
     "name": "stdout",
     "text": [
      "A\nB\nC\nA\nB\nC\n"
     ]
    }
   ],
   "source": [
    "for i in [\"A\", \"B\", \"C\"]:\n",
    "  print(i)\n",
    "\n",
    "print('A');print('B');print('C')"
   ]
  },
  {
   "cell_type": "code",
   "execution_count": 52,
   "metadata": {},
   "outputs": [
    {
     "output_type": "stream",
     "name": "stdout",
     "text": [
      "출력: A\n출력: B\n출력: C\n출력: A\n출력: B\n출력: C\n"
     ]
    }
   ],
   "source": [
    "for i in [\"A\", \"B\", \"C\"]:\n",
    "  print(\"출력:\", i)\n",
    "\n",
    "word = '출력:'\n",
    "print(word,'A');print(word,'B');print(word,'C')"
   ]
  },
  {
   "cell_type": "code",
   "execution_count": 53,
   "metadata": {},
   "outputs": [
    {
     "output_type": "stream",
     "name": "stdout",
     "text": [
      "변환: a\n변환: b\n변환: c\n변환: a\n변환: b\n변환: c\n"
     ]
    }
   ],
   "source": [
    "for i in [\"A\", \"B\", \"C\"]:\n",
    "  b = i.lower()\n",
    "  print(\"변환:\", b)\n",
    "\n",
    "text = \"변환:\"\n",
    "word = 'A'\n",
    "lower = word.lower()\n",
    "print(text, lower)\n",
    "word = 'B'\n",
    "lower = word.lower()\n",
    "print(text, lower)\n",
    "word = 'C'\n",
    "lower = word.lower()\n",
    "print(text, lower)"
   ]
  },
  {
   "cell_type": "code",
   "execution_count": 54,
   "metadata": {},
   "outputs": [
    {
     "output_type": "stream",
     "name": "stdout",
     "text": [
      "10\n20\n30\n"
     ]
    }
   ],
   "source": [
    "for i in ['10', '20', '30']:\n",
    "    print(i)"
   ]
  },
  {
   "cell_type": "code",
   "execution_count": 55,
   "metadata": {},
   "outputs": [
    {
     "output_type": "stream",
     "name": "stdout",
     "text": [
      "10\n-------\n20\n-------\n30\n-------\n"
     ]
    }
   ],
   "source": [
    "for i in ['10', '20', '30']:\n",
    "    print(i);print('-------')"
   ]
  },
  {
   "cell_type": "code",
   "execution_count": 56,
   "metadata": {},
   "outputs": [
    {
     "output_type": "stream",
     "name": "stdout",
     "text": [
      "++++\n10\n20\n30\n"
     ]
    }
   ],
   "source": [
    "print(\"++++\")\n",
    "for i in ['10', '20', '30']:\n",
    "    print(i)"
   ]
  },
  {
   "cell_type": "code",
   "execution_count": 57,
   "metadata": {},
   "outputs": [
    {
     "output_type": "stream",
     "name": "stdout",
     "text": [
      "-----\n-----\n-----\n-----\n"
     ]
    }
   ],
   "source": [
    "for i in np.arange(4):\n",
    "    print('-----')"
   ]
  },
  {
   "source": [
    "## 141~"
   ],
   "cell_type": "markdown",
   "metadata": {}
  },
  {
   "cell_type": "code",
   "execution_count": 58,
   "metadata": {},
   "outputs": [
    {
     "output_type": "stream",
     "name": "stdout",
     "text": [
      "110\n210\n310\n"
     ]
    }
   ],
   "source": [
    "tax = 10\n",
    "for i in [100, 200, 300]:\n",
    "    print(int(i)+tax)"
   ]
  },
  {
   "cell_type": "code",
   "execution_count": 59,
   "metadata": {},
   "outputs": [
    {
     "output_type": "stream",
     "name": "stdout",
     "text": [
      "오늘의 메뉴: 김밥\n오늘의 메뉴: 라면\n오늘의 메뉴: 샌드위치\n"
     ]
    }
   ],
   "source": [
    "for i in ['김밥', '라면', '샌드위치']:\n",
    "    print('오늘의 메뉴:',i)"
   ]
  },
  {
   "cell_type": "code",
   "execution_count": 60,
   "metadata": {},
   "outputs": [
    {
     "output_type": "stream",
     "name": "stdout",
     "text": [
      "6\n4\n4\n"
     ]
    }
   ],
   "source": [
    "for i in [\"SK하이닉스\", \"삼성전자\", \"LG전자\"]:\n",
    "    print(len(i))"
   ]
  },
  {
   "cell_type": "code",
   "execution_count": 66,
   "metadata": {},
   "outputs": [
    {
     "output_type": "stream",
     "name": "stdout",
     "text": [
      "dog 3\ncat 3\nparrot 6\n"
     ]
    }
   ],
   "source": [
    "for i in ['dog', 'cat', 'parrot']:\n",
    "    print(i, len(i))"
   ]
  },
  {
   "cell_type": "code",
   "execution_count": 67,
   "metadata": {},
   "outputs": [
    {
     "output_type": "stream",
     "name": "stdout",
     "text": [
      "d\nc\np\n"
     ]
    }
   ],
   "source": [
    "for i in ['dog', 'cat', 'parrot']:\n",
    "    print(i[0])"
   ]
  },
  {
   "cell_type": "code",
   "execution_count": 69,
   "metadata": {},
   "outputs": [
    {
     "output_type": "stream",
     "name": "stdout",
     "text": [
      "3 × 1\n3 × 2\n3 × 3\n"
     ]
    }
   ],
   "source": [
    "for i in [1, 2, 3]:\n",
    "    print('3 ×',i)"
   ]
  },
  {
   "cell_type": "code",
   "execution_count": 72,
   "metadata": {},
   "outputs": [
    {
     "output_type": "stream",
     "name": "stdout",
     "text": [
      "나\n다\n라\n나\n다\n라\n"
     ]
    }
   ],
   "source": [
    "list = [\"가\", \"나\", \"다\", \"라\"]\n",
    "for i in np.arange(1,4):\n",
    "    print(list[i])\n",
    "\n",
    "for i in list[1:]:\n",
    "    print(i)"
   ]
  },
  {
   "cell_type": "code",
   "execution_count": 77,
   "metadata": {},
   "outputs": [
    {
     "output_type": "stream",
     "name": "stdout",
     "text": [
      "가\n다\n가\n다\n---------------------------\n라\n다\n나\n가\n"
     ]
    }
   ],
   "source": [
    "list = [\"가\", \"나\", \"다\", \"라\"]\n",
    "for i in [0, 2]:\n",
    "    print(list[i])\n",
    "\n",
    "for i in list[: :2]:\n",
    "    print(i)\n",
    "\n",
    "print('---------------------------')\n",
    "\n",
    "for i in list[: :-1]:\n",
    "    print(i)"
   ]
  }
 ]
}