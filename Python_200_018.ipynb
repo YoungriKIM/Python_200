{
 "metadata": {
  "language_info": {
   "codemirror_mode": {
    "name": "ipython",
    "version": 3
   },
   "file_extension": ".py",
   "mimetype": "text/x-python",
   "name": "python",
   "nbconvert_exporter": "python",
   "pygments_lexer": "ipython3",
   "version": "3.8.5"
  },
  "orig_nbformat": 2,
  "kernelspec": {
   "name": "python385jvsc74a57bd0b18ecf447b39d25eae6a9ae9d5694327d58d99c869301a8afbbe0bb2ae2074bb",
   "display_name": "Python 3.8.5 64-bit (conda)"
  }
 },
 "nbformat": 4,
 "nbformat_minor": 2,
 "cells": [
  {
   "source": [
    "# 291~"
   ],
   "cell_type": "markdown",
   "metadata": {}
  },
  {
   "cell_type": "code",
   "execution_count": 9,
   "metadata": {},
   "outputs": [
    {
     "output_type": "stream",
     "name": "stdout",
     "text": [
      "==== done ====\n"
     ]
    }
   ],
   "source": [
    "# 바탕화면에 '매수종목1.txt' 파일을 생성한 후 다음과 같이 종목코드를 파일에 써보세요.\n",
    "\n",
    "f = open('C:/Users/lemon/OneDrive/바탕 화면/매수종목1.txt', mode='wt', encoding='utf-8')\n",
    "f.write('005930\\n')\n",
    "f.write('005380\\n')\n",
    "f.write('035420')\n",
    "f.close()\n",
    "print('==== done ====')"
   ]
  },
  {
   "cell_type": "code",
   "execution_count": 3,
   "metadata": {},
   "outputs": [
    {
     "output_type": "stream",
     "name": "stdout",
     "text": [
      "==== done ====\n"
     ]
    }
   ],
   "source": [
    "# 바탕화면에 '매수종목2.txt' 파일을 생성한 후 다음과 같이 종목코드와 종목명을 파일에 써보세요.\n",
    "\n",
    "f = open('C:/Users/lemon/OneDrive/바탕 화면/매수종목2.txt', mode='wt', encoding='utf-8')\n",
    "f.write('005930 삼성전자\\n005380 현대차\\n035420 NAVER')\n",
    "f.close()\n",
    "\n",
    "print('==== done ====')"
   ]
  },
  {
   "cell_type": "code",
   "execution_count": 4,
   "metadata": {},
   "outputs": [
    {
     "output_type": "stream",
     "name": "stdout",
     "text": [
      "==== done ====\n"
     ]
    }
   ],
   "source": [
    "# 바탕화면에 '매수종목.csv' 파일을 생성한 후 다음과 같이 종목코드와 종목명을 파일에 써보세요. 인코딩은 'cp949'를 사용해야합니다.\n",
    "\n",
    "import csv\n",
    "\n",
    "f = open('C:/Users/lemon/OneDrive/바탕 화면/매수종목.csv', mode='wt', encoding='cp949', newline='')\n",
    "\n",
    "writer = csv.writer(f)\n",
    "writer.writerow(['종목명', '종목코드', 'PER'])\n",
    "writer.writerow(['삼성전자', '005930', '15.59'])\n",
    "writer.writerow(['NAVER', '035420', '55.82'])\n",
    "f.close()\n",
    "print('==== done ====')\n"
   ]
  },
  {
   "cell_type": "code",
   "execution_count": 15,
   "metadata": {},
   "outputs": [
    {
     "output_type": "stream",
     "name": "stdout",
     "text": [
      "['005930', '005380', '035420']\n"
     ]
    }
   ],
   "source": [
    "# 바탕화면에 생성한 '매수종목1.txt' 파일을 읽은 후 종목코드를 리스트에 저장해보세요.\n",
    "\n",
    "f = open('C:/Users/lemon/OneDrive/바탕 화면/매수종목1.txt', mode='rt', encoding='utf-8')\n",
    "lines = f.readlines()   # python list\n",
    "\n",
    "codes = []\n",
    "for line in lines:\n",
    "    code = line.strip()  #'\\n'\n",
    "    codes.append(code)\n",
    "\n",
    "print(codes)\n",
    "\n",
    "f.close()"
   ]
  },
  {
   "cell_type": "code",
   "execution_count": 34,
   "metadata": {},
   "outputs": [
    {
     "output_type": "stream",
     "name": "stdout",
     "text": [
      "{'005930': '삼성전자', '005380': '현대차', '035420': 'NAVER'}\n"
     ]
    }
   ],
   "source": [
    "# 바탕화면에 생성한 '매수종목2.txt' 파일을 읽은 후 종목코드와 종목명을 딕셔너리로 저장해보세요. 종목명을 key로 종목명을 value로 저장합니다.\n",
    "\n",
    "f = open('C:/Users/lemon/OneDrive/바탕 화면/매수종목2.txt', mode='rt', encoding='utf-8')\n",
    "lines = f.readlines()\n",
    "\n",
    "data = {}\n",
    "for line in lines:\n",
    "    line = line.strip()\n",
    "    k,v = line.split()\n",
    "    data[k] = v\n",
    "\n",
    "print(data)\n",
    "f.close()"
   ]
  },
  {
   "cell_type": "code",
   "execution_count": 40,
   "metadata": {},
   "outputs": [
    {
     "output_type": "stream",
     "name": "stdout",
     "text": [
      "[10.31, 8.0]\n"
     ]
    }
   ],
   "source": [
    "# 문자열 PER (Price to Earning Ratio) 값을 실수로 변환할 때 에러가 발생합니다. 예외처리를 통해 에러가 발생하는 PER은 0으로 출력하세요.\n",
    "\n",
    "per = [\"10.31\", \"\", \"8.00\"]\n",
    "\n",
    "list =[]\n",
    "for i in per:\n",
    "    try:\n",
    "        list.append(float(i))\n",
    "    except:\n",
    "        pass\n",
    "\n",
    "print(list)"
   ]
  },
  {
   "cell_type": "code",
   "execution_count": 43,
   "metadata": {},
   "outputs": [
    {
     "output_type": "stream",
     "name": "stdout",
     "text": [
      "0으로 나누면 안되요.\n"
     ]
    }
   ],
   "source": [
    "# 특정 예외만 처리하기\n",
    "# 어떤 값을 0으로 나누면 ZeroDivisionError 에러가 발생합니다. try ~ except로 모든 에러에 대해 예외처리하지 말고 ZeroDivisionError 에러만 예외처리해보세요.\n",
    "\n",
    "try:\n",
    "    b = 3/0\n",
    "except ZeroDivisionError:\n",
    "    print('0으로 나누면 안되요.')"
   ]
  },
  {
   "cell_type": "code",
   "execution_count": 45,
   "metadata": {},
   "outputs": [
    {
     "output_type": "stream",
     "name": "stdout",
     "text": [
      "1\n2\n3\nlist index out of range\nlist index out of range\n"
     ]
    }
   ],
   "source": [
    "# 예외의 메시지 출력하기\n",
    "# 다음과 같은 코드 구조를 사용하면 예외 발생 시 에러 메시지를 변수로 바인딩할 수 있습니다.\n",
    "\n",
    "# try:\n",
    "#     실행코드\n",
    "# except 예외 as 변수:\n",
    "#     예외처리코드 \n",
    "\n",
    "data = [1,2,3]\n",
    "\n",
    "for i in range(5):\n",
    "    try:\n",
    "        print(data[i])\n",
    "    except IndexError as e:\n",
    "        print(e)\n",
    "        "
   ]
  },
  {
   "cell_type": "code",
   "execution_count": 60,
   "metadata": {},
   "outputs": [
    {
     "output_type": "stream",
     "name": "stdout",
     "text": [
      "10.31\nclean data\n==== done ====\nerror\n==== done ====\n8.0\nclean data\n==== done ====\n"
     ]
    }
   ],
   "source": [
    "# try, except, else, finally 구조 사용해보기\n",
    "# 파이썬 예외처리는 다음과 같은 구조를 가질 수 있습니다.\n",
    "\n",
    "# try:\n",
    "#     실행 코드\n",
    "# except:\n",
    "#     예외가 발생했을 때 수행할 코드\n",
    "# else:\n",
    "#     예외가 발생하지 않았을 때 수행할 코드\n",
    "# finally:\n",
    "#     예외 발생 여부와 상관없이 항상 수행할 코드\n",
    "# 아래의 코드에 대해서 예외처리를 사용하고 try, except, else, finally에 적당한 코드를 작성해봅시다. else와 finally는 적당한 문구를 print하시면 됩니다.\n",
    "\n",
    "per = [\"10.31\", \"\", \"8.00\"]\n",
    "\n",
    "for i in per:\n",
    "    try:\n",
    "        print(float(i))\n",
    "    except:\n",
    "        print('error')\n",
    "    else:\n",
    "        print('clean data')\n",
    "    finally:\n",
    "        print('==== done ====')\n"
   ]
  }
 ]
}