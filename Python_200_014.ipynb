{
 "metadata": {
  "language_info": {
   "codemirror_mode": {
    "name": "ipython",
    "version": 3
   },
   "file_extension": ".py",
   "mimetype": "text/x-python",
   "name": "python",
   "nbconvert_exporter": "python",
   "pygments_lexer": "ipython3",
   "version": "3.8.5"
  },
  "orig_nbformat": 2,
  "kernelspec": {
   "name": "python385jvsc74a57bd0b18ecf447b39d25eae6a9ae9d5694327d58d99c869301a8afbbe0bb2ae2074bb",
   "display_name": "Python 3.8.5 64-bit (conda)"
  }
 },
 "nbformat": 4,
 "nbformat_minor": 2,
 "cells": [
  {
   "source": [
    "# 211~"
   ],
   "cell_type": "markdown",
   "metadata": {}
  },
  {
   "cell_type": "code",
   "execution_count": 1,
   "metadata": {},
   "outputs": [
    {
     "output_type": "stream",
     "name": "stdout",
     "text": [
      "안녕\nHi\n"
     ]
    }
   ],
   "source": [
    "# 211\n",
    "# 함수의 호출 결과를 예측하라.\n",
    "\n",
    "def 함수(문자열) :\n",
    "    print(문자열)\n",
    "\n",
    "함수(\"안녕\")\n",
    "함수(\"Hi\")\n",
    "\n",
    "# 안녕\n",
    "# Hi"
   ]
  },
  {
   "cell_type": "code",
   "execution_count": 2,
   "metadata": {},
   "outputs": [
    {
     "output_type": "stream",
     "name": "stdout",
     "text": [
      "7\n15\n"
     ]
    }
   ],
   "source": [
    "# 함수의 호출 결과를 예측하라.\n",
    "\n",
    "def 함수(a, b) :\n",
    "    print(a + b)\n",
    "\n",
    "함수(3, 4)\n",
    "함수(7, 8)\n",
    "\n",
    "# 7\n",
    "# 15"
   ]
  },
  {
   "cell_type": "code",
   "execution_count": null,
   "metadata": {},
   "outputs": [],
   "source": [
    "def 함수(문자열) :\n",
    "    print(문자열)\n",
    "함수()\n",
    "TypeError: 함수() missing 1 required positional argument: '문자열'\n",
    "\n",
    "# 함수안에 문자열(파라미터)을 안 넣었으니까"
   ]
  },
  {
   "cell_type": "code",
   "execution_count": null,
   "metadata": {},
   "outputs": [],
   "source": [
    "def 함수(a, b) :\n",
    "    print(a + b)\n",
    "\n",
    "함수(\"안녕\", 3)\n",
    "TypeError: must be str, not int\n",
    "\n",
    "# 숫자를 더하려는 함수인데, str과 int는 덧셈을 할 수 없어서"
   ]
  },
  {
   "cell_type": "code",
   "execution_count": 4,
   "metadata": {},
   "outputs": [
    {
     "output_type": "stream",
     "name": "stdout",
     "text": [
      "today :D\n"
     ]
    }
   ],
   "source": [
    "# 하나의 문자를 입력받아 문자열 끝에 \":D\" 스마일 문자열을 이어 붙여 출력하는 print_with_smile 함수를 정의하라.\n",
    "\n",
    "def print_with_smile(word):\n",
    "    print(word, ':D')\n",
    "\n",
    "print_with_smile('today')"
   ]
  },
  {
   "cell_type": "code",
   "execution_count": 7,
   "metadata": {},
   "outputs": [
    {
     "output_type": "stream",
     "name": "stdout",
     "text": [
      "13.0\n"
     ]
    }
   ],
   "source": [
    "# 현재 가격을 입력 받아 상한가 (30%)를 출력하는 print_upper_price 함수를 정의하라.\n",
    "\n",
    "def print_upper_price(number):\n",
    "    print(number*1.3)\n",
    "\n",
    "print_upper_price(10)"
   ]
  },
  {
   "cell_type": "code",
   "execution_count": 8,
   "metadata": {},
   "outputs": [
    {
     "output_type": "stream",
     "name": "stdout",
     "text": [
      "7\n11\n"
     ]
    }
   ],
   "source": [
    "# 두 개의 숫자를 입력받아 두 수의 합을 출력하는 print_sum 함수를 정의하라.\n",
    "\n",
    "def print_sum(a, b):\n",
    "    print(a+b)\n",
    "\n",
    "print_sum(3,4)\n",
    "print_sum(10,1)"
   ]
  },
  {
   "cell_type": "code",
   "execution_count": 11,
   "metadata": {},
   "outputs": [
    {
     "output_type": "stream",
     "name": "stdout",
     "text": [
      "3 + 4 = 7\n3 - 4 = -1\n3 * 4 = 12\n3 / 4 = 0.75\n"
     ]
    }
   ],
   "source": [
    "# 두 개의 숫자를 입력받아 합/차/곱/나눗셈을 출력하는 print_arithmetic_operation 함수를 작성하라.\n",
    "\n",
    "def print_arithmetic_operation(a, b):\n",
    "    print(a, '+', b, '=', a+b)\n",
    "    print(a, '-', b, '=', a-b)\n",
    "    print(a, '*', b, '=', a*b)\n",
    "    print(a, '/', b, '=', a/b)\n",
    "\n",
    "\n",
    "print_arithmetic_operation(3,4)"
   ]
  },
  {
   "source": [
    "# 221~"
   ],
   "cell_type": "markdown",
   "metadata": {}
  },
  {
   "cell_type": "code",
   "execution_count": 12,
   "metadata": {},
   "outputs": [
    {
     "output_type": "stream",
     "name": "stdout",
     "text": [
      "nohtyp\n"
     ]
    }
   ],
   "source": [
    "# 입력된 문자열을 역순으로 출력하는 print_reverse 함수를 정의하라.\n",
    "\n",
    "def print_reverse(word):\n",
    "    print(word[::-1])\n",
    "\n",
    "print_reverse('python')"
   ]
  },
  {
   "cell_type": "code",
   "execution_count": 47,
   "metadata": {},
   "outputs": [
    {
     "output_type": "stream",
     "name": "stdout",
     "text": [
      "2.0\n3.0\n"
     ]
    }
   ],
   "source": [
    "# 성적 리스트를 입력 받아 평균을 출력하는 print_score 함수를 정의하라.\n",
    "\n",
    "def print_score1(score_list):\n",
    "    score = 0\n",
    "    for i in range(len(score_list)):\n",
    "        score += score_list[i]\n",
    "    score = score/len(score_list)\n",
    "    print(score)\n",
    "\n",
    "print_score1([1, 2, 3])\n",
    "\n",
    "# 더 짧게!!\n",
    "\n",
    "def pirnt_score2(score_list):\n",
    "    print(sum(score_list)/len(score_list))\n",
    "\n",
    "print_score2([2, 3, 4])"
   ]
  },
  {
   "cell_type": "code",
   "execution_count": 52,
   "metadata": {},
   "outputs": [
    {
     "output_type": "stream",
     "name": "stdout",
     "text": [
      "2\n10\n12\n2\n10\n12\n"
     ]
    }
   ],
   "source": [
    "# 하나의 리스트를 입력받아 짝수만 화면에 출력하는 print_even 함수를 정의하라.\n",
    "\n",
    "# print_even ([1, 3, 2, 10, 12, 11, 15])\n",
    "\n",
    "def print_even1(list):\n",
    "    for i in range(len(list)):\n",
    "        if list[i]%2 == 0:\n",
    "            print(list[i])\n",
    "\n",
    "print_even1 ([1, 3, 2, 10, 12, 11, 15])\n",
    "\n",
    "def print_even2(list):\n",
    "    for i in list:\n",
    "        if i%2 == 0:\n",
    "            print(i)\n",
    "\n",
    "print_even2 ([1, 3, 2, 10, 12, 11, 15])\n"
   ]
  },
  {
   "cell_type": "code",
   "execution_count": 58,
   "metadata": {},
   "outputs": [
    {
     "output_type": "stream",
     "name": "stdout",
     "text": [
      "이름\n나이\n성별\n"
     ]
    }
   ],
   "source": [
    "# 하나의 딕셔너리를 입력받아 딕셔너리의 key 값을 화면에 출력하는 print_keys 함수를 정의하라.\n",
    "\n",
    "# print_keys ({\"이름\":\"김말똥\", \"나이\":30, \"성별\":0})\n",
    "# 이름\n",
    "# 나이\n",
    "# 성별\n",
    "\n",
    "def print_keys(dic):\n",
    "    for keys in dic.keys():\n",
    "        print(keys)\n",
    "\n",
    "print_keys ({\"이름\":\"김말똥\", \"나이\":30, \"성별\":0})"
   ]
  },
  {
   "cell_type": "code",
   "execution_count": 59,
   "metadata": {},
   "outputs": [
    {
     "output_type": "stream",
     "name": "stdout",
     "text": [
      "[100, 130, 100, 100]\n"
     ]
    }
   ],
   "source": [
    "# my_dict에는 날짜를 키값으로 OHLC가 리스트로 저장돼 있다. my_dict와 날짜 키값을 입력받아 OHLC 리스트를 출력하는 print_value_by_key 함수를 정의하라.\n",
    "\n",
    "my_dict = {\"10/26\" : [100, 130, 100, 100],\n",
    "           \"10/27\" : [10, 12, 10, 11]}\n",
    "\n",
    "# {'key': values}\n",
    "\n",
    "def print_value_by_key(my_dict, data):\n",
    "    print(my_dict[data])\n",
    "\n",
    "print_value_by_key  (my_dict, \"10/26\")"
   ]
  },
  {
   "cell_type": "code",
   "execution_count": 64,
   "metadata": {},
   "outputs": [
    {
     "output_type": "stream",
     "name": "stdout",
     "text": [
      "아이엠어보\n이유알어걸\n"
     ]
    }
   ],
   "source": [
    "# 입력 문자열을 한 줄에 다섯글자씩 출력하는 print_5xn(string) 함수를 작성하라.\n",
    "\n",
    "# print_5xn(\"아이엠어보이유알어걸\")\n",
    "\n",
    "# [0:5]\n",
    "# [5:10]\n",
    "\n",
    "start = 5\n",
    "def print_5xn(string):\n",
    "    for i in range(int(len(string)/5)):\n",
    "        print(string[start*i:(start*i)+5])\n",
    "\n",
    "print_5xn(\"아이엠어보이유알어걸\")\n"
   ]
  },
  {
   "cell_type": "code",
   "execution_count": 69,
   "metadata": {},
   "outputs": [
    {
     "output_type": "stream",
     "name": "stdout",
     "text": [
      "아이엠\n어보이\n유알어\n걸\n"
     ]
    }
   ],
   "source": [
    "# 문자열과 한줄에 출력될 글자 수를 입력을 받아 한 줄에 입력된 글자 수만큼 출력하는 print_mxn(string) 함수를 작성하라.\n",
    "\n",
    "# printmxn(\"아이엠어보이유알어걸\", 3)\n",
    "\n",
    "# [0:3]\n",
    "# [3:6]\n",
    "# [6:9]\n",
    "# [9:]\n",
    "\n",
    "def printmxn(string, num):\n",
    "    start = num\n",
    "    for i in range(int(len(string)/num)+1):\n",
    "        print(string[start*i:(start*i)+num])\n",
    "\n",
    "printmxn(\"아이엠어보이유알어걸\", 3)"
   ]
  },
  {
   "cell_type": "code",
   "execution_count": 71,
   "metadata": {},
   "outputs": [
    {
     "output_type": "stream",
     "name": "stdout",
     "text": [
      "1000000\n"
     ]
    }
   ],
   "source": [
    "# 연봉을 입력받아 월급을 계산하는 calc_monthly_salary(annual_salary) 함수를 정의하라. 회사는 연봉을 12개월로 나누어 분할 지급하며, 이 때 1원 미만은 버림한다.\n",
    "\n",
    "# calc_monthly_salary(12000000)\n",
    "\n",
    "def calc_monthly_salary(salary):\n",
    "    print(int(salary/12))\n",
    "\n",
    "calc_monthly_salary(12000000)"
   ]
  },
  {
   "cell_type": "code",
   "execution_count": 72,
   "metadata": {},
   "outputs": [
    {
     "output_type": "stream",
     "name": "stdout",
     "text": [
      "왼쪽: 100\n오른쪽: 200\n"
     ]
    }
   ],
   "source": [
    "# 아래 코드의 실행 결과를 예측하라.\n",
    "\n",
    "def my_print (a, b) :\n",
    "    print(\"왼쪽:\", a)\n",
    "    print(\"오른쪽:\", b)\n",
    "\n",
    "my_print(a=100, b=200)\n",
    "\n",
    "# 왼쪽: 100\n",
    "# 오른쪽: 100"
   ]
  },
  {
   "cell_type": "code",
   "execution_count": 73,
   "metadata": {},
   "outputs": [
    {
     "output_type": "stream",
     "name": "stdout",
     "text": [
      "왼쪽: 200\n오른쪽: 100\n"
     ]
    }
   ],
   "source": [
    "# 아래 코드의 실행 결과를 예측하라.\n",
    "\n",
    "def my_print (a, b) :\n",
    "    print(\"왼쪽:\", a)\n",
    "    print(\"오른쪽:\", b)\n",
    "\n",
    "my_print(b=100, a=200)\n",
    "\n",
    "# 왼쪽: 200\n",
    "# 오른쪽: 100"
   ]
  },
  {
   "source": [
    "# 231~"
   ],
   "cell_type": "markdown",
   "metadata": {}
  },
  {
   "cell_type": "code",
   "execution_count": 79,
   "metadata": {},
   "outputs": [
    {
     "output_type": "stream",
     "name": "stdout",
     "text": [
      "4\n"
     ]
    }
   ],
   "source": [
    "# 아래 코드를 실행한 결과를 예상하라.\n",
    "\n",
    "def n_plus_1 (n) :\n",
    "    result = n + 1\n",
    "    print (result)\n",
    "    \n",
    "n_plus_1(3)\n",
    "\n",
    "# 4"
   ]
  },
  {
   "cell_type": "code",
   "execution_count": 82,
   "metadata": {},
   "outputs": [
    {
     "output_type": "stream",
     "name": "stdout",
     "text": [
      "www.naver.com\n"
     ]
    }
   ],
   "source": [
    "# 문자열 하나를 입력받아 인터넷 주소를 반환하는 make_url 함수를 정의하라.\n",
    "\n",
    "# make_url(\"naver\")\n",
    "# www.naver.com\n",
    "\n",
    "def make_url(word):\n",
    "    print('www.' + word + '.com')\n",
    "\n",
    "make_url(\"naver\")\n"
   ]
  },
  {
   "cell_type": "code",
   "execution_count": 98,
   "metadata": {},
   "outputs": [
    {
     "output_type": "stream",
     "name": "stdout",
     "text": [
      "['a', 'b', 'c', 'd']\n"
     ]
    },
    {
     "output_type": "execute_result",
     "data": {
      "text/plain": [
       "['H', 'e', 'l', 'l', 'o']"
      ]
     },
     "metadata": {},
     "execution_count": 98
    }
   ],
   "source": [
    "# 문자열을 입력받아 각 문자들로 구성된 리스트로 반환하는 make_list 함수를 정의하라.\n",
    "\n",
    "# make_list(\"abcd\")\n",
    "# ['a', 'b', 'c', 'd']\n",
    "\n",
    "def make_list(string):\n",
    "    list = []\n",
    "    for i in range(len(string)):\n",
    "        list.append(string[i])\n",
    "    print(list)\n",
    "\n",
    "make_list(\"abcd\")\n",
    "\n",
    "# 더 짧게!!!\n",
    "\n",
    "def make_list (string) :\n",
    "    return list(string)\n",
    "\n",
    "make_list(\"Hello\")\n"
   ]
  },
  {
   "cell_type": "code",
   "execution_count": 104,
   "metadata": {},
   "outputs": [
    {
     "output_type": "stream",
     "name": "stdout",
     "text": [
      "[4, 6, 8]\n"
     ]
    }
   ],
   "source": [
    "# 숫자로 구성된 하나의 리스트를 입력받아, 짝수들을 추출하여 리스트로 반환하는 pickup_even 함수를 구현하라.\n",
    "\n",
    "# pickup_even([3, 4, 5, 6, 7, 8])\n",
    "# [4, 6, 8]\n",
    "\n",
    "def pickup_even(num_list):\n",
    "    new_list = []\n",
    "    for i in list(num_list):\n",
    "        if i%2 == 0: new_list.append(i)\n",
    "    print(new_list)\n",
    "\n",
    "pickup_even([3, 4, 5, 6, 7, 8]) "
   ]
  },
  {
   "source": [
    "# 콤마가 포함된 문자열 숫자를 입력받아 정수로 변환하는 convert_int 함수를 정의하라.\n",
    "\n",
    "# convert_int(\"1,234,567\")\n",
    "\n",
    "def convert_int(string):\n",
    "    return int(string.replace(',',''))\n",
    "\n",
    "convert_int(\"1,234,567\")"
   ],
   "cell_type": "code",
   "metadata": {},
   "execution_count": 114,
   "outputs": [
    {
     "output_type": "execute_result",
     "data": {
      "text/plain": [
       "1234567"
      ]
     },
     "metadata": {},
     "execution_count": 114
    }
   ]
  },
  {
   "cell_type": "code",
   "execution_count": 124,
   "metadata": {},
   "outputs": [
    {
     "output_type": "stream",
     "name": "stdout",
     "text": [
      "22\n"
     ]
    }
   ],
   "source": [
    "# 아래 코드의 실행 결과를 예측하라.\n",
    "\n",
    "def 함수(num) :\n",
    "    return num + 4\n",
    "\n",
    "a = 함수(10)\n",
    "b = 함수(a)\n",
    "c = 함수(b)\n",
    "print(c)\n",
    "\n",
    "# 14\n",
    "# 18\n",
    "# 22\n",
    "# 22"
   ]
  },
  {
   "cell_type": "code",
   "execution_count": 125,
   "metadata": {},
   "outputs": [
    {
     "output_type": "stream",
     "name": "stdout",
     "text": [
      "22\n"
     ]
    }
   ],
   "source": [
    "# 아래 코드의 실행 결과를 예측하라.\n",
    "\n",
    "def 함수(num) :\n",
    "    return num + 4\n",
    "\n",
    "c = 함수(함수(함수(10)))\n",
    "print(c)\n",
    "\n",
    "# 14+4+4 = 22"
   ]
  },
  {
   "cell_type": "code",
   "execution_count": 126,
   "metadata": {},
   "outputs": [
    {
     "output_type": "stream",
     "name": "stdout",
     "text": [
      "140\n"
     ]
    }
   ],
   "source": [
    "# 아래 코드의 실행 결과를 예측하라.\n",
    "\n",
    "def 함수1(num) :\n",
    "    return num + 4\n",
    "\n",
    "def 함수2(num) :\n",
    "    return num * 10\n",
    "\n",
    "a = 함수1(10)\n",
    "c = 함수2(a)\n",
    "print(c)\n",
    "\n",
    "# 14\n",
    "# 140"
   ]
  },
  {
   "cell_type": "code",
   "execution_count": 127,
   "metadata": {},
   "outputs": [
    {
     "output_type": "stream",
     "name": "stdout",
     "text": [
      "16\n"
     ]
    }
   ],
   "source": [
    "# 아래 코드의 실행 결과를 예측하라.\n",
    "\n",
    "def 함수1(num) :\n",
    "    return num + 4\n",
    "\n",
    "def 함수2(num) :\n",
    "    num = num + 2\n",
    "    return 함수1(num)\n",
    "\n",
    "c = 함수2(10)\n",
    "print(c)\n",
    "\n",
    "# 12 > 16"
   ]
  },
  {
   "cell_type": "code",
   "execution_count": 128,
   "metadata": {},
   "outputs": [
    {
     "output_type": "stream",
     "name": "stdout",
     "text": [
      "28\n"
     ]
    }
   ],
   "source": [
    "# 아래 코드의 실행 결과를 예측하라.\n",
    "\n",
    "def 함수0(num) :\n",
    "    return num * 2\n",
    "\n",
    "def 함수1(num) :\n",
    "    return 함수0(num + 2)\n",
    "\n",
    "def 함수2(num) :\n",
    "    num = num + 10\n",
    "    return 함수1(num)\n",
    "\n",
    "c = 함수2(2)\n",
    "print(c)\n",
    "\n",
    "# 12 > 28"
   ]
  }
 ]
}