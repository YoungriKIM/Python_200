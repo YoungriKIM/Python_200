{
 "metadata": {
  "language_info": {
   "codemirror_mode": {
    "name": "ipython",
    "version": 3
   },
   "file_extension": ".py",
   "mimetype": "text/x-python",
   "name": "python",
   "nbconvert_exporter": "python",
   "pygments_lexer": "ipython3",
   "version": "3.8.5"
  },
  "orig_nbformat": 2,
  "kernelspec": {
   "name": "python385jvsc74a57bd0b18ecf447b39d25eae6a9ae9d5694327d58d99c869301a8afbbe0bb2ae2074bb",
   "display_name": "Python 3.8.5 64-bit (conda)"
  }
 },
 "nbformat": 4,
 "nbformat_minor": 2,
 "cells": [
  {
   "source": [
    "# 171~"
   ],
   "cell_type": "markdown",
   "metadata": {}
  },
  {
   "cell_type": "code",
   "execution_count": 3,
   "metadata": {},
   "outputs": [
    {
     "output_type": "stream",
     "name": "stdout",
     "text": [
      "32100\n32150\n32000\n32500\n32100\n32150\n32000\n32500\n"
     ]
    }
   ],
   "source": [
    "# 아래와 같이 리스트의 데이터를 출력하라. 단, for문과 range문을 사용하라.\n",
    "\n",
    "price_list = [32100, 32150, 32000, 32500]\n",
    "\n",
    "for i in range(4):\n",
    "    print(price_list[i])\n",
    "\n",
    "# 더 좋은 함수\n",
    "for i in range(len(price_list)):\n",
    "    print(price_list[i])"
   ]
  },
  {
   "cell_type": "code",
   "execution_count": 6,
   "metadata": {},
   "outputs": [
    {
     "output_type": "stream",
     "name": "stdout",
     "text": [
      "3 32100\n2 32150\n1 32000\n0 32500\n3 32100\n2 32150\n1 32000\n0 32500\n"
     ]
    }
   ],
   "source": [
    "# 아래와 같이 리스트의 데이터를 출력하라. 단, for문과 range문을 사용하라.\n",
    "\n",
    "price_list = [32100, 32150, 32000, 32500]\n",
    "\n",
    "for i in range(len(price_list)):\n",
    "    print(abs(i-3), price_list[i])\n",
    "\n",
    "# 다른 함수\n",
    "for i in range(len(price_list)):\n",
    "    print((len(price_list)-1)-i, price_list[i])"
   ]
  },
  {
   "cell_type": "code",
   "execution_count": 8,
   "metadata": {},
   "outputs": [
    {
     "output_type": "stream",
     "name": "stdout",
     "text": [
      "100 32150\n110 32000\n120 32500\n"
     ]
    }
   ],
   "source": [
    "# 아래와 같이 리스트의 데이터를 출력하라. 단, for문과 range문을 사용하라.\n",
    "\n",
    "price_list = [32100, 32150, 32000, 32500]\n",
    "\n",
    "for i in range(1, len(price_list)):\n",
    "    print(100+((i-1)*10), price_list[i])"
   ]
  },
  {
   "cell_type": "code",
   "execution_count": 11,
   "metadata": {},
   "outputs": [
    {
     "output_type": "stream",
     "name": "stdout",
     "text": [
      "가 나\n나 다\n다 라\n가 나\n나 다\n다 라\n"
     ]
    }
   ],
   "source": [
    "# my_list를 아래와 같이 출력하라.\n",
    "\n",
    "my_list = [\"가\", \"나\", \"다\", \"라\"]\n",
    "\n",
    "for i in range(0, (len(my_list)-1)):\n",
    "    print(my_list[i], my_list[i+1])\n",
    "\n",
    "# 다른 함수\n",
    "for i in range(1, len(my_list)):\n",
    "    print(my_list[i-1], my_list[i])"
   ]
  },
  {
   "cell_type": "code",
   "execution_count": 13,
   "metadata": {},
   "outputs": [
    {
     "output_type": "stream",
     "name": "stdout",
     "text": [
      "가 나 다\n나 다 라\n다 라 마\n가 나 다\n나 다 라\n다 라 마\n"
     ]
    }
   ],
   "source": [
    "# 리스트를 아래와 같이 출력하라.\n",
    "\n",
    "my_list = [\"가\", \"나\", \"다\", \"라\", \"마\"]\n",
    "\n",
    "for i in range(len(my_list)-2):\n",
    "    print(my_list[i], my_list[i+1], my_list[i+2])\n",
    "\n",
    "for i in range(2, len(my_list)):\n",
    "    print(my_list[i-2], my_list[i-1], my_list[i])"
   ]
  },
  {
   "cell_type": "code",
   "execution_count": 24,
   "metadata": {},
   "outputs": [
    {
     "output_type": "stream",
     "name": "stdout",
     "text": [
      "라 다\n다 나\n나 가\n라 다\n다 나\n나 가\n라 다\n다 나\n나 가\n"
     ]
    }
   ],
   "source": [
    "# 반복문과 range 함수를 사용해서 my_list를 아래와 같이 출력하라.\n",
    "\n",
    "my_list = [\"가\", \"나\", \"다\", \"라\"]\n",
    "\n",
    "for i in range(0, len(my_list)-1):\n",
    "    print(my_list[abs(i-3)], my_list[abs(i-2)])\n",
    "\n",
    "for i in range(0, len(my_list)-1):\n",
    "    print(my_list[3-i], my_list[2-i])\n",
    "\n",
    "for i in range(len(my_list)-1, 0, -1):\n",
    "    print(my_list[i], my_list[i-1])"
   ]
  },
  {
   "cell_type": "code",
   "execution_count": 26,
   "metadata": {},
   "outputs": [
    {
     "output_type": "stream",
     "name": "stdout",
     "text": [
      "100\n200\n400\n"
     ]
    }
   ],
   "source": [
    "# 리스트에는 네 개의 정수가 저장되어 있다. 각각의 데이터에 대해서 자신과 우측값과의 차분값을 화면에 출력하라.\n",
    "# 차분값 : 두 값의 차이\n",
    "\n",
    "my_list = [100, 200, 400, 800]\n",
    "\n",
    "# [i] - [i+1]\n",
    "# [i+1] - [i+2]\n",
    "# [i+2] - [i+3]\n",
    "\n",
    "for i in range(len(my_list)-1):\n",
    "    print(my_list[i+1]-my_list[i])"
   ]
  },
  {
   "cell_type": "code",
   "execution_count": 28,
   "metadata": {},
   "outputs": [
    {
     "output_type": "stream",
     "name": "stdout",
     "text": [
      "233.33333333333334\n466.6666666666667\n733.3333333333334\n1033.3333333333333\n"
     ]
    }
   ],
   "source": [
    "# 리스트에는 6일 간의 종가 데이터가 저장되어 있다. 종가 데이터의 3일 이동 평균을 계산하고 이를 화면에 출력하라.\n",
    "\n",
    "my_list = [100, 200, 400, 800, 1000, 1300]\n",
    "\n",
    "# ([i] + [i+1] + [i+2])/3\n",
    "\n",
    "for i in range(len(my_list)-2):\n",
    "    print((my_list[i]+my_list[i+1]+my_list[i+2])/3)"
   ]
  },
  {
   "cell_type": "code",
   "execution_count": 30,
   "metadata": {},
   "outputs": [
    {
     "output_type": "stream",
     "name": "stdout",
     "text": [
      "[50, 100, 30, 80, 0]\n"
     ]
    }
   ],
   "source": [
    "# 리스트에 5일간의 저가, 고가 정보가 저장돼 있다. 고가와 저가의 차를 변동폭이라고 정의할 때, low, high 두 개의 리스트를 사용해서 5일간의 변동폭을 volatility 리스트에 저장하라.\n",
    "\n",
    "low_prices  = [100, 200, 400, 800, 1000]\n",
    "high_prices = [150, 300, 430, 880, 1000]\n",
    "\n",
    "# high[i]-low[i]= gap\n",
    "\n",
    "gap = []\n",
    "for i in range(len(low_prices)):\n",
    "    gap.append(high_prices[i]-low_prices[i])\n",
    "print(gap)"
   ]
  },
  {
   "source": [
    "# 181~"
   ],
   "cell_type": "markdown",
   "metadata": {}
  },
  {
   "cell_type": "code",
   "execution_count": 32,
   "metadata": {},
   "outputs": [],
   "source": [
    "# 아래 표에서 하나의 행을 하나의 리스트로, 총 3개의 리스트를 갖는 이차원 리스트 apart를 정의하라.\n",
    "\n",
    "# 101호\t102호\n",
    "# 201호\t202호\n",
    "# 301호\t302호\n",
    "\n",
    "apart = [['101호', '102호'],['201호', '202호'],['301호', '302호']]\n"
   ]
  },
  {
   "cell_type": "code",
   "execution_count": 33,
   "metadata": {},
   "outputs": [],
   "source": [
    "# 아래 표에서 하나의 열을 하나의 리스트로, 총 2개의 리스트를 갖는 이차원 리스트 stock을 정의하라.\n",
    "\n",
    "# 시가\t종가\n",
    "# 100\t80\n",
    "# 200\t210\n",
    "# 300\t330\n",
    "\n",
    "stock = [['시가', 100, 200, 300], ['종가', 80, 210, 330]]"
   ]
  },
  {
   "cell_type": "code",
   "execution_count": 36,
   "metadata": {},
   "outputs": [],
   "source": [
    "# 아래 표를 stock 이름의 딕셔너리로 표현하라.시가를 key로 저장하고, 나머지 같은 열의 데이터를 리스트로 저장해서 value로 저장한다. 종가 역시 key로 저장하고 나머지 같은 열의 데이터를 리스트로 저장해서 value로 저장한다.\n",
    "\n",
    "# 시가\t종가\n",
    "# 100\t80\n",
    "# 200\t210\n",
    "# 300\t330\n",
    "\n",
    "stock = {'시가': [100, 200, 300], '종가': [80, 210, 330]}"
   ]
  },
  {
   "cell_type": "code",
   "execution_count": null,
   "metadata": {},
   "outputs": [],
   "source": [
    "# 아래 표를 stock 이라는 이름의 딕셔너리로 표현하라. 날짜를 key로 저장하고, 나머지 같은 행의 데이터를 리스트로 저장해서 value로 저장한다. 첫 열이 날짜이다.\n",
    "\n",
    "# 10/10\t80\t110\t70\t90\n",
    "# 10/11\t210\t230\t190\t200\n",
    "\n",
    "stock = {'10/10':[80, 110, 70, 90], '10/11':[210, 230, 190, 200]}"
   ]
  },
  {
   "cell_type": "code",
   "execution_count": 41,
   "metadata": {},
   "outputs": [
    {
     "output_type": "stream",
     "name": "stdout",
     "text": [
      "101 호\n102 호\n201 호\n202 호\n301 호\n302 호\n101 호\n102 호\n201 호\n202 호\n301 호\n302 호\n"
     ]
    }
   ],
   "source": [
    "# 리스트에 저장된 데이터를 아래와 같이 출력하라.\n",
    "\n",
    "apart = [ [101, 102], [201, 202], [301, 302] ]\n",
    "\n",
    "# [0][0]\n",
    "# [0][1]\n",
    "# [1][0]\n",
    "# [1][1]\n",
    "# [2][0]\n",
    "# [2][1]\n",
    "\n",
    "for i in range(len(apart)):\n",
    "    print(apart[i][0],'호');print(apart[i][1],'호')\n",
    "\n",
    "# 이게 더 낫지...\n",
    "for row in apart:\n",
    "    for col in row:\n",
    "        print(col,'호')"
   ]
  },
  {
   "cell_type": "code",
   "execution_count": 43,
   "metadata": {},
   "outputs": [
    {
     "output_type": "stream",
     "name": "stdout",
     "text": [
      "301 호\n302 호\n201 호\n202 호\n101 호\n102 호\n"
     ]
    }
   ],
   "source": [
    "# 리스트에 저장된 데이터를 아래와 같이 출력하라.\n",
    "\n",
    "apart = [ [101, 102], [201, 202], [301, 302] ]\n",
    "\n",
    "for row in apart[::-1]:\n",
    "    for col in row:\n",
    "        print(col, '호')"
   ]
  },
  {
   "cell_type": "code",
   "execution_count": 44,
   "metadata": {},
   "outputs": [
    {
     "output_type": "stream",
     "name": "stdout",
     "text": [
      "302 호\n301 호\n202 호\n201 호\n102 호\n101 호\n"
     ]
    }
   ],
   "source": [
    "# 리스트에 저장된 데이터를 아래와 같이 출력하라.\n",
    "\n",
    "apart = [ [101, 102], [201, 202], [301, 302] ]\n",
    "\n",
    "for row in apart[::-1]:\n",
    "    for col in row[::-1]:\n",
    "        print(col, '호')"
   ]
  },
  {
   "cell_type": "code",
   "execution_count": 47,
   "metadata": {},
   "outputs": [
    {
     "output_type": "stream",
     "name": "stdout",
     "text": [
      "101 호\n-----\n102 호\n-----\n201 호\n-----\n202 호\n-----\n301 호\n-----\n302 호\n-----\n"
     ]
    }
   ],
   "source": [
    "# 리스트에 저장된 데이터를 아래와 같이 출력하라.\n",
    "\n",
    "apart = [ [101, 102], [201, 202], [301, 302] ]\n",
    "\n",
    "for row in apart:\n",
    "    for col in row:\n",
    "        print(col, '호');print('-'*5)"
   ]
  },
  {
   "cell_type": "code",
   "execution_count": 49,
   "metadata": {},
   "outputs": [
    {
     "output_type": "stream",
     "name": "stdout",
     "text": [
      "101 호\n102 호\n-----\n201 호\n202 호\n-----\n301 호\n302 호\n-----\n"
     ]
    }
   ],
   "source": [
    "# 리스트에 저장된 데이터를 아래와 같이 출력하라.\n",
    "\n",
    "apart = [ [101, 102], [201, 202], [301, 302] ]\n",
    "\n",
    "for row in apart:\n",
    "    for col in row:\n",
    "        print(col, '호')\n",
    "    print('-'*5)"
   ]
  },
  {
   "cell_type": "code",
   "execution_count": 50,
   "metadata": {},
   "outputs": [
    {
     "output_type": "stream",
     "name": "stdout",
     "text": [
      "101 호\n102 호\n201 호\n202 호\n301 호\n302 호\n-----\n"
     ]
    }
   ],
   "source": [
    "# 리스트에 저장된 데이터를 아래와 같이 출력하라.\n",
    "\n",
    "apart = [ [101, 102], [201, 202], [301, 302] ]\n",
    "\n",
    "for row in apart:\n",
    "    for col in row:\n",
    "        print(col, '호')\n",
    "print('-'*5)"
   ]
  }
 ]
}