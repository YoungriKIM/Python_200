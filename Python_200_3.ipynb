{
  "nbformat": 4,
  "nbformat_minor": 0,
  "metadata": {
    "colab": {
      "name": "Python_200_3",
      "provenance": [],
      "collapsed_sections": [],
      "authorship_tag": "ABX9TyMOIUxnd/BidUGiMRNm7E+M",
      "include_colab_link": true
    },
    "kernelspec": {
      "name": "python3",
      "display_name": "Python 3"
    }
  },
  "cells": [
    {
      "cell_type": "markdown",
      "metadata": {
        "id": "view-in-github",
        "colab_type": "text"
      },
      "source": [
        "<a href=\"https://colab.research.google.com/github/YoungriKIM/Python_200/blob/main/Python_200_3.ipynb\" target=\"_parent\"><img src=\"https://colab.research.google.com/assets/colab-badge.svg\" alt=\"Open In Colab\"/></a>"
      ]
    },
    {
      "cell_type": "code",
      "metadata": {
        "colab": {
          "base_uri": "https://localhost:8080/",
          "height": 269
        },
        "id": "yXEermIPHy29",
        "outputId": "073ada23-4851-4278-9b72-0c5547b92c90"
      },
      "source": [
        "# 35) % formatting =================================\r\n",
        "name1 = \"김민지\" \r\n",
        "age1 = 10\r\n",
        "name2 = \"이유리\"\r\n",
        "age2 = 13\r\n",
        "\r\n",
        "print('이름: %s, 나이: %d' % (name1, age1))\r\n",
        "print('이름: %s, 나이: %d' % (name2, age2))\r\n",
        "\r\n",
        "# 36) format( ) 메서드 =================================\r\n",
        "name1 = \"김민지\" \r\n",
        "age1 = 10\r\n",
        "name2 = \"이유리\"\r\n",
        "age2 = 13\r\n",
        "\r\n",
        "print('이름: {} 나이: {}'.format(name1, age1))\r\n",
        "print('이름: {} 나이: {}'.format(name2, age2))\r\n",
        "\r\n",
        "# 37)  f-string   ================================\r\n",
        "name1 = \"김민지\" \r\n",
        "age1 = 10\r\n",
        "name2 = \"이유리\"\r\n",
        "age2 = 13\r\n",
        "\r\n",
        "print(f'이름: {name1}, 나이: {age1}')\r\n",
        "print(f'이름: {name2}, 나이: {age2}')\r\n",
        "\r\n",
        "# 38) 콤마 제거하기 ==============================\r\n",
        "상장주식수 = \"5,969,782,550\"\r\n",
        "print(type(상장주식수))         #<class 'str'>\r\n",
        "new1 = 상장주식수.replace(',','')\r\n",
        "new1 = int(new1)\r\n",
        "print(new1)                     #5969782550\r\n",
        "print(type(new1))               #<class 'int'>\r\n",
        "\r\n",
        "# 40) 공백제거 strip ===============================================\r\n",
        "data = \"   삼성전자    \"\r\n",
        "data1 = data.strip()\r\n",
        "print(data1)        #삼성전자\r\n",
        "\r\n",
        "\r\n",
        "# 41) 대문자로 변경 upper ====================================\r\n",
        "ticker = \"btc_krw\"\r\n",
        "ticker2 = ticker.upper()\r\n",
        "print(ticker2)              #BTC_KRW\r\n",
        "\r\n",
        "# 42) 소문자로 변경 lower ====================================\r\n",
        "ticker = \"BTC_KRW\"\r\n",
        "ticker2 = ticker.lower()\r\n",
        "print(ticker2)              #btc_krw\r\n",
        "\r\n",
        "# 43) 대문자로 시작하기 capitalize  ==========================\r\n",
        "wr = 'hello, my name is kaka'\r\n",
        "wr2 = wr.capitalize()\r\n",
        "print(wr2)                  #Hello\r\n",
        "\r\n",
        "# 44) 끝부분 어떤 문자인지 확인 endswith ========================\r\n",
        "file_name = \"보고서.xlsx\"\r\n",
        "file_name.endswith('xlsx')      #True\r\n",
        "\r\n",
        "# 45) 끝부분 어떤 문자인지 확인 (A 또는 B) endswith ========================\r\n",
        "file_name2 = 'memo.txt'\r\n",
        "file_name2.endswith(('tx', 'txt'))      #True\r\n",
        "\r\n",
        "# 46) 시작 문자 확인하기 startswith ======================\r\n",
        "file_name = \"2020_보고서.xlsx\"\r\n",
        "file_name.startswith('2020')            #True\r\n",
        "\r\n",
        "# 47) 기준을 잡아서 split ==========================\r\n",
        "a = \"hello world\"\r\n",
        "a.split()           #['hello', 'world']  #공백을 기준으로\r\n",
        "a.split('w')        #['hello ', 'orld']\r\n",
        "a.split('o')        #['hell', ' w', 'rld']\r\n",
        "\r\n",
        "tick = \"btc_krw\"\r\n",
        "tick.split('_')     #['btc', 'krw']\r\n",
        "\r\n",
        "date = \"2020-05-01\"\r\n",
        "date.split('-')     #['2020', '05', '01']\r\n",
        "\r\n",
        "# 50) 왼쪽, 오른쪽 공백 제거 rstrip / lstrip ========================\r\n",
        "data = \"   삼성전자    \"\r\n",
        "data.rstrip()       #'   삼성전자'\r\n",
        "data.lstrip()       #'삼성전자    '"
      ],
      "execution_count": 61,
      "outputs": [
        {
          "output_type": "stream",
          "text": [
            "이름: 김민지, 나이: 10\n",
            "이름: 이유리, 나이: 13\n",
            "이름: 김민지 나이: 10\n",
            "이름: 이유리 나이: 13\n",
            "이름: 김민지, 나이: 10\n",
            "이름: 이유리, 나이: 13\n",
            "<class 'str'>\n",
            "5969782550\n",
            "<class 'int'>\n",
            "삼성전자\n",
            "BTC_KRW\n",
            "btc_krw\n",
            "Hello, my name is kaka\n"
          ],
          "name": "stdout"
        },
        {
          "output_type": "execute_result",
          "data": {
            "application/vnd.google.colaboratory.intrinsic+json": {
              "type": "string"
            },
            "text/plain": [
              "'삼성전자    '"
            ]
          },
          "metadata": {
            "tags": []
          },
          "execution_count": 61
        }
      ]
    }
  ]
}