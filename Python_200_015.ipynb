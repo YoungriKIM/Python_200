{
 "metadata": {
  "language_info": {
   "codemirror_mode": {
    "name": "ipython",
    "version": 3
   },
   "file_extension": ".py",
   "mimetype": "text/x-python",
   "name": "python",
   "nbconvert_exporter": "python",
   "pygments_lexer": "ipython3",
   "version": "3.8.5"
  },
  "orig_nbformat": 2,
  "kernelspec": {
   "name": "python385jvsc74a57bd0b18ecf447b39d25eae6a9ae9d5694327d58d99c869301a8afbbe0bb2ae2074bb",
   "display_name": "Python 3.8.5 64-bit (conda)"
  }
 },
 "nbformat": 4,
 "nbformat_minor": 2,
 "cells": [
  {
   "source": [
    "# 241~"
   ],
   "cell_type": "markdown",
   "metadata": {}
  },
  {
   "cell_type": "code",
   "execution_count": 2,
   "metadata": {},
   "outputs": [
    {
     "output_type": "stream",
     "name": "stdout",
     "text": [
      "2021-04-27 16:15:33.148340\n<class 'datetime.datetime'>\n"
     ]
    }
   ],
   "source": [
    "# datetime 모듈을 사용해서 현재 시간을 화면에 출력해보세요.\n",
    "\n",
    "import datetime\n",
    "\n",
    "now = datetime.datetime.now()\n",
    "print(now)\n",
    "print(type(now))"
   ]
  },
  {
   "cell_type": "code",
   "execution_count": 31,
   "metadata": {},
   "outputs": [
    {
     "output_type": "stream",
     "name": "stdout",
     "text": [
      "2021-04-22 16:20:59.579016\n2021-04-23 16:20:59.579016\n2021-04-24 16:20:59.579016\n2021-04-25 16:20:59.579016\n2021-04-26 16:20:59.579016\n"
     ]
    }
   ],
   "source": [
    "# datetime 모듈의 timedelta를 사용해서 오늘로부터 5일, 4일, 3일, 2일, 1일 전의 날짜를 화면에 출력해보세요.\n",
    "\n",
    "now = datetime.datetime.now()\n",
    "for i in range(5, 0, -1):\n",
    "    delta = datetime.timedelta(days=i)\n",
    "    date = now - delta\n",
    "    print(date)"
   ]
  },
  {
   "cell_type": "code",
   "execution_count": 35,
   "metadata": {},
   "outputs": [
    {
     "output_type": "stream",
     "name": "stdout",
     "text": [
      "16:23:18\n"
     ]
    }
   ],
   "source": [
    "# 현재시간을 얻어온 후 다음과 같은 포맷으로 시간을 출력해보세요. strftime 메서드를 사용하세요.\n",
    "\n",
    "now_time = datetime.datetime.now()\n",
    "\n",
    "print(now_time.strftime('%H:%M:%S'))"
   ]
  },
  {
   "cell_type": "code",
   "execution_count": 40,
   "metadata": {},
   "outputs": [
    {
     "output_type": "stream",
     "name": "stdout",
     "text": [
      "2020-05-04 00:00:00 <class 'datetime.datetime'>\n"
     ]
    }
   ],
   "source": [
    "# datetime.datetime.strptime 메서드를 사용하면 문자열 형식의 시간을 datetime.datetime 타입의 시간 값으로 만들어줍니다. \"2020-05-04\"의 문자열을 시간 타입으로 변환해보세요.\n",
    "\n",
    "date = \"2020-05-04\"\n",
    "\n",
    "new_data = datetime.datetime.strptime(date, \"%Y-%m-%d\")\n",
    "\n",
    "print(new_data, type(new_data))"
   ]
  },
  {
   "cell_type": "code",
   "execution_count": 41,
   "metadata": {},
   "outputs": [
    {
     "output_type": "stream",
     "name": "stdout",
     "text": [
      "2021-04-27 16:34:43.180310\n",
      "2021-04-27 16:34:44.180758\n",
      "2021-04-27 16:34:45.185061\n",
      "2021-04-27 16:34:46.197733\n",
      "2021-04-27 16:34:47.206797\n",
      "2021-04-27 16:34:48.210278\n",
      "2021-04-27 16:34:49.215230\n",
      "2021-04-27 16:34:50.220237\n",
      "2021-04-27 16:34:51.225676\n",
      "2021-04-27 16:34:52.228640\n",
      "2021-04-27 16:34:53.234457\n",
      "2021-04-27 16:34:54.243529\n",
      "2021-04-27 16:34:55.254900\n",
      "2021-04-27 16:34:56.264268\n",
      "2021-04-27 16:34:57.268429\n",
      "2021-04-27 16:34:58.276878\n",
      "2021-04-27 16:34:59.283531\n",
      "2021-04-27 16:35:00.300363\n",
      "2021-04-27 16:35:01.309642\n",
      "2021-04-27 16:35:02.316675\n",
      "2021-04-27 16:35:03.318538\n",
      "2021-04-27 16:35:04.322955\n",
      "2021-04-27 16:35:05.339626\n",
      "2021-04-27 16:35:06.356956\n",
      "2021-04-27 16:35:07.363328\n",
      "2021-04-27 16:35:08.377417\n",
      "2021-04-27 16:35:09.380972\n",
      "2021-04-27 16:35:10.390615\n",
      "2021-04-27 16:35:11.393998\n"
     ]
    },
    {
     "output_type": "error",
     "ename": "KeyboardInterrupt",
     "evalue": "",
     "traceback": [
      "\u001b[1;31m---------------------------------------------------------------------------\u001b[0m",
      "\u001b[1;31mKeyboardInterrupt\u001b[0m                         Traceback (most recent call last)",
      "\u001b[1;32m<ipython-input-41-40c9cac1f855>\u001b[0m in \u001b[0;36m<module>\u001b[1;34m\u001b[0m\n\u001b[0;32m      7\u001b[0m     \u001b[0mnow\u001b[0m \u001b[1;33m=\u001b[0m \u001b[0mdatetime\u001b[0m\u001b[1;33m.\u001b[0m\u001b[0mdatetime\u001b[0m\u001b[1;33m.\u001b[0m\u001b[0mnow\u001b[0m\u001b[1;33m(\u001b[0m\u001b[1;33m)\u001b[0m\u001b[1;33m\u001b[0m\u001b[1;33m\u001b[0m\u001b[0m\n\u001b[0;32m      8\u001b[0m     \u001b[0mprint\u001b[0m\u001b[1;33m(\u001b[0m\u001b[0mnow\u001b[0m\u001b[1;33m)\u001b[0m\u001b[1;33m\u001b[0m\u001b[1;33m\u001b[0m\u001b[0m\n\u001b[1;32m----> 9\u001b[1;33m     \u001b[0mtime\u001b[0m\u001b[1;33m.\u001b[0m\u001b[0msleep\u001b[0m\u001b[1;33m(\u001b[0m\u001b[1;36m1\u001b[0m\u001b[1;33m)\u001b[0m\u001b[1;33m\u001b[0m\u001b[1;33m\u001b[0m\u001b[0m\n\u001b[0m",
      "\u001b[1;31mKeyboardInterrupt\u001b[0m: "
     ]
    }
   ],
   "source": [
    "# time 모듈, datetime 모듈을 사용해서 1초에 한 번 현재 시간을 출력하는 코드를 작성하세요.\n",
    "\n",
    "import time\n",
    "import datetime\n",
    "\n",
    "while True:\n",
    "    now = datetime.datetime.now()\n",
    "    print(now)\n",
    "    time.sleep(1)"
   ]
  },
  {
   "cell_type": "code",
   "execution_count": 46,
   "metadata": {},
   "outputs": [
    {
     "output_type": "stream",
     "name": "stdout",
     "text": [
      "----done----\n"
     ]
    }
   ],
   "source": [
    "# 바탕화면에 텍스트 파일을 하나 생성한 후 os 모듈의 rename 함수를 호출하여 해당 파일의 이름을 변경해보세요\n",
    "\n",
    "import os\n",
    "\n",
    "os.rename('C:\\\\Users\\\\lemon\\\\OneDrive\\\\바탕 화면\\\\test_01.txt', 'C:\\\\Users\\\\lemon\\\\OneDrive\\\\바탕 화면\\\\test_02.txt')\n",
    "\n",
    "print('----done----')"
   ]
  },
  {
   "cell_type": "code",
   "execution_count": 49,
   "metadata": {},
   "outputs": [
    {
     "output_type": "stream",
     "name": "stdout",
     "text": [
      "0.0\n0.1\n0.2\n0.30000000000000004\n0.4\n0.5\n0.6000000000000001\n0.7000000000000001\n0.8\n0.9\n1.0\n1.1\n1.2000000000000002\n1.3\n1.4000000000000001\n1.5\n1.6\n1.7000000000000002\n1.8\n1.9000000000000001\n2.0\n2.1\n2.2\n2.3000000000000003\n2.4000000000000004\n2.5\n2.6\n2.7\n2.8000000000000003\n2.9000000000000004\n3.0\n3.1\n3.2\n3.3000000000000003\n3.4000000000000004\n3.5\n3.6\n3.7\n3.8000000000000003\n3.9000000000000004\n4.0\n4.1000000000000005\n4.2\n4.3\n4.4\n4.5\n4.6000000000000005\n4.7\n4.800000000000001\n4.9\n"
     ]
    }
   ],
   "source": [
    "# numpy 모듈의 arange 함수를 사용해서 0.0 부터 5.0까지 0.1씩 증가하는 값을 화면에 출력해보세요.\n",
    "import numpy as np\n",
    "\n",
    "for i in np.arange(0, 5, 0.1):\n",
    "    print(i)"
   ]
  }
 ]
}