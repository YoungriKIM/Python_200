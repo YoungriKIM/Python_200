{
 "metadata": {
  "language_info": {
   "codemirror_mode": {
    "name": "ipython",
    "version": 3
   },
   "file_extension": ".py",
   "mimetype": "text/x-python",
   "name": "python",
   "nbconvert_exporter": "python",
   "pygments_lexer": "ipython3",
   "version": "3.8.5"
  },
  "orig_nbformat": 2,
  "kernelspec": {
   "name": "python385jvsc74a57bd0b18ecf447b39d25eae6a9ae9d5694327d58d99c869301a8afbbe0bb2ae2074bb",
   "display_name": "Python 3.8.5 64-bit (conda)"
  }
 },
 "nbformat": 4,
 "nbformat_minor": 2,
 "cells": [
  {
   "source": [
    "# 241~"
   ],
   "cell_type": "markdown",
   "metadata": {}
  },
  {
   "cell_type": "code",
   "execution_count": null,
   "metadata": {},
   "outputs": [],
   "source": [
    "# datetime 모듈을 사용해서 현재 시간을 화면에 출력해보세요.\n",
    "\n",
    "import datetime\n",
    "\n",
    "now = datetime.datetime.now()\n",
    "print(now)\n",
    "print(type(now))"
   ]
  },
  {
   "cell_type": "code",
   "execution_count": 15,
   "metadata": {},
   "outputs": [
    {
     "output_type": "stream",
     "name": "stdout",
     "text": [
      "2021-04-23 15:11:39.160788\n2021-04-24 15:11:39.160788\n2021-04-25 15:11:39.160788\n2021-04-26 15:11:39.160788\n2021-04-27 15:11:39.160788\n"
     ]
    }
   ],
   "source": [
    "# datetime 모듈의 timedelta를 사용해서 오늘로부터 5일, 4일, 3일, 2일, 1일 전의 날짜를 화면에 출력해보세요.\n",
    "\n",
    "now = datetime.datetime.now()\n",
    "for i in range(5, 0, -1):\n",
    "    delta = datetime.timedelta(days=i)\n",
    "    date = now - delta\n",
    "    print(date)"
   ]
  },
  {
   "cell_type": "code",
   "execution_count": 16,
   "metadata": {},
   "outputs": [
    {
     "output_type": "stream",
     "name": "stdout",
     "text": [
      "15:11:39\n"
     ]
    }
   ],
   "source": [
    "# 현재시간을 얻어온 후 다음과 같은 포맷으로 시간을 출력해보세요. strftime 메서드를 사용하세요.\n",
    "\n",
    "now_time = datetime.datetime.now()\n",
    "\n",
    "print(now_time.strftime('%H:%M:%S'))"
   ]
  },
  {
   "cell_type": "code",
   "execution_count": 17,
   "metadata": {},
   "outputs": [
    {
     "output_type": "stream",
     "name": "stdout",
     "text": [
      "2020-05-04 00:00:00 <class 'datetime.datetime'>\n"
     ]
    }
   ],
   "source": [
    "# datetime.datetime.strptime 메서드를 사용하면 문자열 형식의 시간을 datetime.datetime 타입의 시간 값으로 만들어줍니다. \"2020-05-04\"의 문자열을 시간 타입으로 변환해보세요.\n",
    "\n",
    "date = \"2020-05-04\"\n",
    "\n",
    "new_data = datetime.datetime.strptime(date, \"%Y-%m-%d\")\n",
    "\n",
    "print(new_data, type(new_data))"
   ]
  },
  {
   "cell_type": "code",
   "execution_count": 18,
   "metadata": {},
   "outputs": [
    {
     "output_type": "stream",
     "name": "stdout",
     "text": [
      "2021-04-28 15:11:39.250737\n",
      "2021-04-28 15:11:40.257878\n",
      "2021-04-28 15:11:41.264981\n",
      "2021-04-28 15:11:42.267395\n",
      "2021-04-28 15:11:43.271058\n",
      "2021-04-28 15:11:44.279714\n",
      "2021-04-28 15:11:45.282051\n",
      "2021-04-28 15:11:46.296128\n",
      "2021-04-28 15:11:47.296536\n",
      "2021-04-28 15:11:48.309243\n",
      "2021-04-28 15:11:49.322905\n",
      "2021-04-28 15:11:50.335041\n",
      "2021-04-28 15:11:51.344851\n",
      "2021-04-28 15:11:52.359029\n"
     ]
    },
    {
     "output_type": "error",
     "ename": "KeyboardInterrupt",
     "evalue": "",
     "traceback": [
      "\u001b[1;31m---------------------------------------------------------------------------\u001b[0m",
      "\u001b[1;31mKeyboardInterrupt\u001b[0m                         Traceback (most recent call last)",
      "\u001b[1;32m<ipython-input-18-40c9cac1f855>\u001b[0m in \u001b[0;36m<module>\u001b[1;34m\u001b[0m\n\u001b[0;32m      7\u001b[0m     \u001b[0mnow\u001b[0m \u001b[1;33m=\u001b[0m \u001b[0mdatetime\u001b[0m\u001b[1;33m.\u001b[0m\u001b[0mdatetime\u001b[0m\u001b[1;33m.\u001b[0m\u001b[0mnow\u001b[0m\u001b[1;33m(\u001b[0m\u001b[1;33m)\u001b[0m\u001b[1;33m\u001b[0m\u001b[1;33m\u001b[0m\u001b[0m\n\u001b[0;32m      8\u001b[0m     \u001b[0mprint\u001b[0m\u001b[1;33m(\u001b[0m\u001b[0mnow\u001b[0m\u001b[1;33m)\u001b[0m\u001b[1;33m\u001b[0m\u001b[1;33m\u001b[0m\u001b[0m\n\u001b[1;32m----> 9\u001b[1;33m     \u001b[0mtime\u001b[0m\u001b[1;33m.\u001b[0m\u001b[0msleep\u001b[0m\u001b[1;33m(\u001b[0m\u001b[1;36m1\u001b[0m\u001b[1;33m)\u001b[0m\u001b[1;33m\u001b[0m\u001b[1;33m\u001b[0m\u001b[0m\n\u001b[0m",
      "\u001b[1;31mKeyboardInterrupt\u001b[0m: "
     ]
    }
   ],
   "source": [
    "# time 모듈, datetime 모듈을 사용해서 1초에 한 번 현재 시간을 출력하는 코드를 작성하세요.\n",
    "\n",
    "import time\n",
    "import datetime\n",
    "\n",
    "while True:\n",
    "    now = datetime.datetime.now()\n",
    "    print(now)\n",
    "    time.sleep(1)"
   ]
  },
  {
   "cell_type": "code",
   "execution_count": 46,
   "metadata": {},
   "outputs": [
    {
     "output_type": "stream",
     "name": "stdout",
     "text": [
      "----done----\n"
     ]
    }
   ],
   "source": [
    "# 바탕화면에 텍스트 파일을 하나 생성한 후 os 모듈의 rename 함수를 호출하여 해당 파일의 이름을 변경해보세요\n",
    "\n",
    "import os\n",
    "\n",
    "os.rename('C:\\\\Users\\\\lemon\\\\OneDrive\\\\바탕 화면\\\\test_01.txt', 'C:\\\\Users\\\\lemon\\\\OneDrive\\\\바탕 화면\\\\test_02.txt')\n",
    "\n",
    "print('----done----')"
   ]
  },
  {
   "cell_type": "code",
   "execution_count": 49,
   "metadata": {},
   "outputs": [
    {
     "output_type": "stream",
     "name": "stdout",
     "text": [
      "0.0\n0.1\n0.2\n0.30000000000000004\n0.4\n0.5\n0.6000000000000001\n0.7000000000000001\n0.8\n0.9\n1.0\n1.1\n1.2000000000000002\n1.3\n1.4000000000000001\n1.5\n1.6\n1.7000000000000002\n1.8\n1.9000000000000001\n2.0\n2.1\n2.2\n2.3000000000000003\n2.4000000000000004\n2.5\n2.6\n2.7\n2.8000000000000003\n2.9000000000000004\n3.0\n3.1\n3.2\n3.3000000000000003\n3.4000000000000004\n3.5\n3.6\n3.7\n3.8000000000000003\n3.9000000000000004\n4.0\n4.1000000000000005\n4.2\n4.3\n4.4\n4.5\n4.6000000000000005\n4.7\n4.800000000000001\n4.9\n"
     ]
    }
   ],
   "source": [
    "# numpy 모듈의 arange 함수를 사용해서 0.0 부터 5.0까지 0.1씩 증가하는 값을 화면에 출력해보세요.\n",
    "import numpy as np\n",
    "\n",
    "for i in np.arange(0, 5, 0.1):\n",
    "    print(i)"
   ]
  },
  {
   "source": [
    "# 251~"
   ],
   "cell_type": "markdown",
   "metadata": {}
  },
  {
   "cell_type": "code",
   "execution_count": 1,
   "metadata": {},
   "outputs": [
    {
     "output_type": "execute_result",
     "data": {
      "text/plain": [
       "'lalala~'"
      ]
     },
     "metadata": {},
     "execution_count": 1
    }
   ],
   "source": [
    "# 클래스, 객체, 인스턴스에 대해 설명해봅시다.\n",
    "\n",
    "# 사과는 클래스(class)\n",
    "# 내가 엊저녁에 먹는 사과 다섯 개 중에 두 번째 것이라고 딱 짚으면서 말하면 그건 실체(instance)\n",
    "\n",
    "class Singer:               # 가수를 정의\n",
    "    def sing(self):         # 노래하기 메서드\n",
    "        return 'Lalala~'\n",
    "\n",
    "gaga = Singer()     # 가가를 가수로 만들기\n",
    "gaga.sing()"
   ]
  },
  {
   "cell_type": "code",
   "execution_count": 6,
   "metadata": {},
   "outputs": [
    {
     "output_type": "stream",
     "name": "stdout",
     "text": [
      "3\n7\n3\n10\n"
     ]
    }
   ],
   "source": [
    "# 클래스 만들어보기\n",
    "\n",
    "class calculator:\n",
    "    def __init__(self):\n",
    "        self.result = 0\n",
    "\n",
    "    def add(self, num):\n",
    "        self.result += num\n",
    "        return self.result\n",
    "\n",
    "cal1 = calculator()\n",
    "cal2 = calculator()\n",
    "\n",
    "print(cal1.add(3))\n",
    "print(cal1.add(4))\n",
    "print(cal2.add(3))\n",
    "print(cal2.add(7))"
   ]
  },
  {
   "cell_type": "code",
   "execution_count": 30,
   "metadata": {},
   "outputs": [],
   "source": [
    "# 비어있는 사람 (Human) 클래스를 \"정의\" 해보세요.\n",
    "\n",
    "class Human:\n",
    "    pass"
   ]
  },
  {
   "cell_type": "code",
   "execution_count": 29,
   "metadata": {},
   "outputs": [],
   "source": [
    "# 사람 (Human) 클래스의 인스턴스를 \"생성\" 하고 이를 areum 변수로 바인딩해보세요.\n",
    "\n",
    "class Human:\n",
    "    pass\n",
    "\n",
    "areum = Human()"
   ]
  },
  {
   "cell_type": "code",
   "execution_count": 28,
   "metadata": {},
   "outputs": [
    {
     "output_type": "stream",
     "name": "stdout",
     "text": [
      "응애응애\n"
     ]
    }
   ],
   "source": [
    "# 사람 (Human) 클래스에 \"응애응애\"를 출력하는 생성자를 추가하세요.\n",
    "\n",
    "class Human:\n",
    "    def __init__(self):\n",
    "        print('응애응애')\n",
    "\n",
    "areum = Human()"
   ]
  },
  {
   "cell_type": "code",
   "execution_count": 34,
   "metadata": {},
   "outputs": [
    {
     "output_type": "stream",
     "name": "stdout",
     "text": [
      "<__main__.Human object at 0x0000029179EED9D0>\n영리\n27\n여자\n"
     ]
    }
   ],
   "source": [
    "# 사람 (Human) 클래스에 (이름, 나이, 성별)을 받는 생성자를 추가하세요.\n",
    "\n",
    "class Human:\n",
    "    def __init__(self, name, age, sex):\n",
    "        self.name = name\n",
    "        self.age = age\n",
    "        self.sex = sex\n",
    "\n",
    "areum = Human('영리', 27, '여자')\n",
    "print(areum)\n",
    "print(areum.name)\n",
    "print(areum.age)\n",
    "print(areum.sex)"
   ]
  },
  {
   "cell_type": "code",
   "execution_count": 36,
   "metadata": {},
   "outputs": [
    {
     "output_type": "stream",
     "name": "stdout",
     "text": [
      "25\n"
     ]
    }
   ],
   "source": [
    "# 255에서 생성한 인스턴스의 이름, 나이, 성별을 출력하세요. 인스턴스 변수에 접근하여 값을 출력하면 됩니다.\n",
    "\n",
    "# 이름: 조아름, 나이: 25, 성별: 여자\n",
    "\n",
    "class Human:\n",
    "    def __init__(self, name, age, sex):\n",
    "        self.name = name\n",
    "        self.age = age\n",
    "        self.sex = sex\n",
    "\n",
    "areum = Human('조아름', 25, '여자')\n",
    "\n",
    "print(areum.age)"
   ]
  },
  {
   "cell_type": "code",
   "execution_count": 38,
   "metadata": {},
   "outputs": [
    {
     "output_type": "stream",
     "name": "stdout",
     "text": [
      "이름: 영리 나이: 27 성별: 여자\n"
     ]
    }
   ],
   "source": [
    "# 사람 (Human) 클래스에서 이름, 나이, 성별을 출력하는 who() 메소드를 추가하세요.\n",
    "\n",
    "class Human:\n",
    "    def __init__(self, name, age, sex):\n",
    "        self.name = name\n",
    "        self.age = age\n",
    "        self.sex = sex\n",
    "    def who(self):\n",
    "        print('이름: {} 나이: {} 성별: {}'.format(self.name, self.age, self.sex))\n",
    "\n",
    "areum = Human('영리', 27, '여자')\n",
    "areum.who()"
   ]
  },
  {
   "cell_type": "code",
   "execution_count": 40,
   "metadata": {},
   "outputs": [
    {
     "output_type": "stream",
     "name": "stdout",
     "text": [
      "이름: 불명, 나이: 미상, 성별: 모름\n이름: 영리, 나이: 27, 성별: 여자\n"
     ]
    }
   ],
   "source": [
    "# 사람 (Human) 클래스에 (이름, 나이, 성별)을 받는 setInfo 메소드를 추가하세요.\n",
    "\n",
    "# >>> areum = Human(\"모름\", 0, \"모름\")\n",
    "# >>> areum.setInfo(\"아름\", 25, \"여자\")\n",
    "\n",
    "class Human:\n",
    "    def __init__(self, name, age, sex):\n",
    "        self.name = name\n",
    "        self.age = age\n",
    "        self.sex = sex\n",
    "\n",
    "    def who(self):\n",
    "        print('이름: {}, 나이: {}, 성별: {}'.format(self.name, self.age, self.sex))\n",
    "\n",
    "    def setinfo(self, name, age, sex):\n",
    "        self.name = name\n",
    "        self.age = age\n",
    "        self.sex = sex\n",
    "\n",
    "youngri = Human('불명', '미상', '모름')\n",
    "youngri.who()\n",
    "\n",
    "youngri.setinfo('영리', 27, '여자')\n",
    "youngri.who()"
   ]
  },
  {
   "cell_type": "code",
   "execution_count": 41,
   "metadata": {},
   "outputs": [
    {
     "output_type": "stream",
     "name": "stdout",
     "text": [
      "나는 다시 돌아온다.\n"
     ]
    }
   ],
   "source": [
    "# 사람 (human) 클래스에 \"나의 죽음을 알리지 말라\"를 출력하는 소멸자를 추가하세요.\n",
    "\n",
    "class Human:\n",
    "    def __init__(self, name, age, sex):\n",
    "        self.name = name\n",
    "        self.age = age\n",
    "        self.sex = sex\n",
    "\n",
    "    def __del__(self):\n",
    "        print('나는 다시 돌아온다.')\n",
    "    \n",
    "    def who(self):\n",
    "        print('이름: {}, 나이: {}, 성별: {}'.format(self.name, self.age, self.sex))\n",
    "\n",
    "    def setinfo(self, name, age, sex):\n",
    "        self.name = name\n",
    "        self.age = age\n",
    "        self.sex = sex\n",
    "\n",
    "youngri = Human('영리', 27, '여자')\n",
    "\n",
    "del(youngri)\n"
   ]
  },
  {
   "cell_type": "code",
   "execution_count": 43,
   "metadata": {},
   "outputs": [
    {
     "output_type": "stream",
     "name": "stdout",
     "text": [
      "Oh my god\n"
     ]
    }
   ],
   "source": [
    "# class OMG : \n",
    "#     def print() :\n",
    "#         print(\"Oh my god\")\n",
    "\n",
    "# myStock = OMG()\n",
    "# myStock.print()\n",
    "\n",
    "# TypeError: print() takes 0 positional arguments but 1 was given\n",
    "\n",
    "# -------------------------------\n",
    "\n",
    "class OMG : \n",
    "    def print(self) :\n",
    "        print(\"Oh my god\")\n",
    "\n",
    "myStock = OMG()\n",
    "myStock.print()"
   ]
  }
 ]
}