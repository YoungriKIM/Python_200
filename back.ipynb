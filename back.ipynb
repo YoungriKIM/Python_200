{
 "metadata": {
  "language_info": {
   "codemirror_mode": {
    "name": "ipython",
    "version": 3
   },
   "file_extension": ".py",
   "mimetype": "text/x-python",
   "name": "python",
   "nbconvert_exporter": "python",
   "pygments_lexer": "ipython3",
   "version": "3.8.5"
  },
  "orig_nbformat": 2,
  "kernelspec": {
   "name": "python385jvsc74a57bd0b18ecf447b39d25eae6a9ae9d5694327d58d99c869301a8afbbe0bb2ae2074bb",
   "display_name": "Python 3.8.5 64-bit ('base': conda)"
  }
 },
 "nbformat": 4,
 "nbformat_minor": 2,
 "cells": [
  {
   "source": [
    "## input_layer"
   ],
   "cell_type": "markdown",
   "metadata": {}
  },
  {
   "cell_type": "code",
   "execution_count": 28,
   "metadata": {},
   "outputs": [],
   "source": [
    "import math\n",
    "\n",
    "def sigmoid(x, deff=False):\n",
    "  if deff:\n",
    "    return sigmoid(x)*(1-sigmoid(x))\n",
    "  else:\n",
    "    return 1 / (1 + math.exp(-x))"
   ]
  },
  {
   "source": [
    "### input"
   ],
   "cell_type": "markdown",
   "metadata": {}
  },
  {
   "cell_type": "code",
   "execution_count": 29,
   "metadata": {},
   "outputs": [
    {
     "output_type": "stream",
     "name": "stdout",
     "text": [
      "0.946\n0.992\n0.7203100346665293\n0.7294827787516894\n"
     ]
    }
   ],
   "source": [
    "i_1, i_2 = 1.2, 3.4\n",
    "y_1, y_2 = 1.2 ,3.4\n",
    "b1, b2 = 0.10, 0.10\n",
    "w1_11, w1_12, w1_21, w1_22 = 0.11, 0.12, 0.21, 0.22\n",
    "w2_11, w2_21 = 0.11, 0.21\n",
    "\n",
    "H1_z1 = w1_11*i_1 + w1_21*i_2 + b1\n",
    "H1_z2 = w1_12*i_1 + w1_22*i_2 + b1\n",
    "print(H1_z1)\n",
    "print(H1_z2)\n",
    "\n",
    "H1_o1 = sigmoid(H1_z1)\n",
    "H1_o2 = sigmoid(H1_z2)\n",
    "print(H1_o1)\n",
    "print(H1_o2)"
   ]
  },
  {
   "source": [
    "### Hidden layer & output"
   ],
   "cell_type": "markdown",
   "metadata": {}
  },
  {
   "cell_type": "code",
   "execution_count": 67,
   "metadata": {},
   "outputs": [
    {
     "output_type": "stream",
     "name": "stdout",
     "text": [
      "0.33242548735117305\n0.5823494179791455\n"
     ]
    }
   ],
   "source": [
    "out_z1 = w2_11*H1_o1 + w2_21*H1_o2 + b2\n",
    "print(out_z1)\n",
    "\n",
    "out_o1 = sigmoid(out_z1)\n",
    "print(out_o1)"
   ]
  },
  {
   "source": [
    "## 역전파"
   ],
   "cell_type": "markdown",
   "metadata": {}
  },
  {
   "cell_type": "code",
   "execution_count": 77,
   "metadata": {},
   "outputs": [
    {
     "output_type": "stream",
     "name": "stdout",
     "text": [
      "-0.03714703970859588\n-0.2634873656733084\n"
     ]
    }
   ],
   "source": [
    "# de/dw2 = 2 * 1\n",
    "de_total_dw2_11 = -(y_1 - out_o1) * out_o1*(1-out_o1) * H1_o1\n",
    "de_total_dw2_21 = -(y_2 - out_o1) * out_o1*(1-out_o1) * H1_o2\n",
    "print(de_total_dw2_11)\n",
    "print(de_total_dw2_21)"
   ]
  },
  {
   "cell_type": "code",
   "execution_count": 71,
   "metadata": {},
   "outputs": [
    {
     "output_type": "stream",
     "name": "stdout",
     "text": [
      "-0.005672799449250015\n-0.07585147779099181\n"
     ]
    }
   ],
   "source": [
    "# 2\n",
    "de_total_dh2_o1 = (out_o1 - y_1) * out_o1 * (1-out_o1) * w2_11\n",
    "de_total_dh2_o2 = (out_o1 - y_2) * out_o1 * (1-out_o1) * w2_21\n",
    "print(de_total_dh2_o1)\n",
    "print(de_total_dh2_o2)"
   ]
  },
  {
   "cell_type": "code",
   "execution_count": 74,
   "metadata": {},
   "outputs": [
    {
     "output_type": "stream",
     "name": "stdout",
     "text": [
      "-0.0006655450014976764\n-0.0006437177115245916\n-0.000651915095354783\n-0.000651915095354783\n"
     ]
    }
   ],
   "source": [
    "# de/dw1 = 2 * 2\n",
    "de_total_dw1_11 = de_total_dh2_o1 * H2_o1*(1-H1_o1) * H1_o1\n",
    "de_total_dw1_12 = de_total_dh2_o1 * H2_o1*(1-H1_o2) * H1_o1\n",
    "de_total_dw1_21 = de_total_dh2_o1 * H2_o1*(1-H1_o1) * H1_o2\n",
    "de_total_dw1_21 = de_total_dh2_o1 * H2_o1*(1-H1_o2) * H1_o2\n",
    "print(de_total_dw1_11)\n",
    "print(de_total_dw1_12)\n",
    "print(de_total_dw1_21)\n",
    "print(de_total_dw1_21)"
   ]
  },
  {
   "cell_type": "code",
   "execution_count": null,
   "metadata": {},
   "outputs": [],
   "source": [
    "class Relu:\n",
    "    def __init__(self):\n",
    "        self.mask = None\n",
    "        \n",
    "    def forward(self, x):\n",
    "        self.mask = (x <= 0)\n",
    "        out = x.copy()\n",
    "        out[self.mask] = 0\n",
    "        \n",
    "        return out\n",
    "    \n",
    "    def backward(self, dout):\n",
    "        dout[self.mask] = 0\n",
    "        dx = dout\n",
    "        \n",
    "        return dx\n",
    "\n"
   ]
  }
 ]
}