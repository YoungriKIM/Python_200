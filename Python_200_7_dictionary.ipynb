{
  "nbformat": 4,
  "nbformat_minor": 0,
  "metadata": {
    "colab": {
      "name": "Python_200_7_dictionary",
      "provenance": [],
      "collapsed_sections": [],
      "authorship_tag": "ABX9TyMeyIASbDFgQhoIyF5nQNaZ",
      "include_colab_link": true
    },
    "kernelspec": {
      "name": "python3",
      "display_name": "Python 3"
    }
  },
  "cells": [
    {
      "cell_type": "markdown",
      "metadata": {
        "id": "view-in-github",
        "colab_type": "text"
      },
      "source": [
        "<a href=\"https://colab.research.google.com/github/YoungriKIM/Python_200/blob/main/Python_200_7_dictionary.ipynb\" target=\"_parent\"><img src=\"https://colab.research.google.com/assets/colab-badge.svg\" alt=\"Open In Colab\"/></a>"
      ]
    },
    {
      "cell_type": "code",
      "metadata": {
        "colab": {
          "base_uri": "https://localhost:8080/"
        },
        "id": "yXEermIPHy29",
        "outputId": "8336812e-e4b9-4e78-e0a2-10dce8d343e4"
      },
      "source": [
        "# 81) 별 표현식으로 나머지 전부 넣기 =========================\r\n",
        "a, b, *c = (0, 1, 2, 3, 4, 5)\r\n",
        "print(a)        # 0\r\n",
        "print(b)        # 1\r\n",
        "print(c)        # [2,3,4,5]\r\n",
        "\r\n",
        "*d, e, f = (0,1,2,3,4,5)\r\n",
        "print(d)        #[0, 1, 2, 3]\r\n",
        "print(e)        # 4\r\n",
        "print(f)        # 5\r\n",
        "\r\n",
        "# 84) 딕셔너리 만들기 ========================\r\n",
        "tmp = {}\r\n",
        "print(type(tmp))\r\n",
        "\r\n",
        "# 85) 딕셔너리 만들기 =======================\r\n",
        "ice = {'메로나':1000, '폴라포':900, '바밤바': 1200}\r\n",
        "print(ice)          # {'메로나': 1000, '폴라포': 900, '바밤바': 1200}\r\n",
        "\r\n",
        "# 86) 딕셔너리에 추가하기 ===========================\r\n",
        "ice['붕어싸만코'] = 1500\r\n",
        "ice['스크류바'] = 1000\r\n",
        "print(ice)          # {'메로나': 1000, '폴라포': 900, '바밤바': 1200, '붕어싸만코': 1500, '스크류바': 1000}\r\n",
        "\r\n",
        "# 87) 원하는 값만 출력하기 ============================\r\n",
        "ice = {'메로나': 1000,\r\n",
        "       '폴로포': 1200,\r\n",
        "       '빵빠레': 1800,\r\n",
        "       '죠스바': 1200,\r\n",
        "       '월드콘': 1500}\r\n",
        "    \r\n",
        "print(ice['메로나'])            #1000\r\n",
        "\r\n",
        "# 88) 원하는 값만 수정하기 ==========================\r\n",
        "ice['죠스바'] = 800\r\n",
        "\r\n",
        "print(ice)              # {'메로나': 1000, '폴로포': 1200, '빵빠레': 1800, '죠스바': 800, '월드콘': 1500}\r\n",
        "\r\n",
        "# 89) 원하는 값만 삭제하기 =========================\r\n",
        "del ice['죠스바']\r\n",
        "\r\n",
        "print(ice)              # {'메로나': 1000, '폴로포': 1200, '빵빠레': 1800, '월드콘': 1500}\r\n",
        "\r\n"
      ],
      "execution_count": 132,
      "outputs": [
        {
          "output_type": "stream",
          "text": [
            "0\n",
            "1\n",
            "[2, 3, 4, 5]\n",
            "[0, 1, 2, 3]\n",
            "4\n",
            "5\n",
            "<class 'dict'>\n",
            "{'메로나': 1000, '폴라포': 900, '바밤바': 1200}\n",
            "{'메로나': 1000, '폴라포': 900, '바밤바': 1200, '붕어싸만코': 1500, '스크류바': 1000}\n",
            "1000\n",
            "{'메로나': 1000, '폴로포': 1200, '빵빠레': 1800, '죠스바': 800, '월드콘': 1500}\n",
            "{'메로나': 1000, '폴로포': 1200, '빵빠레': 1800, '월드콘': 1500}\n"
          ],
          "name": "stdout"
        }
      ]
    }
  ]
}