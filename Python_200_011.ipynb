{
 "metadata": {
  "language_info": {
   "codemirror_mode": {
    "name": "ipython",
    "version": 3
   },
   "file_extension": ".py",
   "mimetype": "text/x-python",
   "name": "python",
   "nbconvert_exporter": "python",
   "pygments_lexer": "ipython3",
   "version": "3.8.5"
  },
  "orig_nbformat": 2,
  "kernelspec": {
   "name": "python385jvsc74a57bd0b18ecf447b39d25eae6a9ae9d5694327d58d99c869301a8afbbe0bb2ae2074bb",
   "display_name": "Python 3.8.5 64-bit (conda)"
  }
 },
 "nbformat": 4,
 "nbformat_minor": 2,
 "cells": [
  {
   "source": [
    "## 151~\n"
   ],
   "cell_type": "markdown",
   "metadata": {}
  },
  {
   "cell_type": "code",
   "execution_count": 1,
   "metadata": {},
   "outputs": [
    {
     "output_type": "stream",
     "name": "stdout",
     "text": [
      "-20\n-3\n"
     ]
    }
   ],
   "source": [
    "# 음수만 출력해라\r\n",
    "import numpy as np\r\n",
    "\r\n",
    "list = [3, -20, -3, 44]\r\n",
    "\r\n",
    "for i in list:\r\n",
    "    if i < 0: print(i)"
   ]
  },
  {
   "cell_type": "code",
   "execution_count": 2,
   "metadata": {},
   "outputs": [
    {
     "output_type": "stream",
     "name": "stdout",
     "text": [
      "3\n"
     ]
    }
   ],
   "source": [
    "# 3의 배수만 출력해보시지\n",
    "list = [3, 100, 23, 44]\n",
    "\n",
    "for i in list:\n",
    "    if i%3 == 0 : print(i)"
   ]
  },
  {
   "cell_type": "code",
   "execution_count": 11,
   "metadata": {},
   "outputs": [
    {
     "output_type": "stream",
     "name": "stdout",
     "text": [
      "12\n18\n"
     ]
    }
   ],
   "source": [
    "# 20보다 작은 3의 배수를 출력\n",
    "list = [13, 21, 12, 14, 30, 18]\n",
    "\n",
    "for i in list:\n",
    "    if (i%3 == 0) and (i < 20) : print(i)"
   ]
  },
  {
   "cell_type": "code",
   "execution_count": 13,
   "metadata": {},
   "outputs": [
    {
     "output_type": "stream",
     "name": "stdout",
     "text": [
      "study\npython\nlanguage\n"
     ]
    }
   ],
   "source": [
    "# 세글자 이상의 문자를 출력\n",
    "list = [\"I\", \"study\", \"python\", \"language\", \"!\"]\n",
    "\n",
    "for i in list:\n",
    "    if len(i) >= 3 :\n",
    "        print(i)"
   ]
  },
  {
   "cell_type": "code",
   "execution_count": 14,
   "metadata": {},
   "outputs": [
    {
     "output_type": "stream",
     "name": "stdout",
     "text": [
      "A\nD\n"
     ]
    }
   ],
   "source": [
    "# 대문자만 출력하라이\n",
    "list = [\"A\", \"b\", \"c\", \"D\"]\n",
    "\n",
    "for i in list:\n",
    "    if i.isupper() == True:\n",
    "        print(i)\n",
    "\n",
    "# .isupper 대문자 여부 판별"
   ]
  },
  {
   "cell_type": "code",
   "execution_count": 16,
   "metadata": {},
   "outputs": [
    {
     "output_type": "stream",
     "name": "stdout",
     "text": [
      "b\nc\n"
     ]
    }
   ],
   "source": [
    "# 이번엔 소문자\n",
    "list = [\"A\", \"b\", \"c\", \"D\"]\n",
    "\n",
    "for i in list:\n",
    "    if not i.isupper() == True:\n",
    "        print(i)"
   ]
  },
  {
   "cell_type": "code",
   "execution_count": 21,
   "metadata": {},
   "outputs": [
    {
     "output_type": "stream",
     "name": "stdout",
     "text": [
      "Dog\nCat\nParrot\n"
     ]
    }
   ],
   "source": [
    "# 단어의 첫 글자를 대문자로!\n",
    "list = ['dog', 'cat', 'parrot']\n",
    "\n",
    "for i in list:\n",
    "    print(i[0].upper() + i[1:])"
   ]
  },
  {
   "cell_type": "code",
   "execution_count": 22,
   "metadata": {},
   "outputs": [
    {
     "output_type": "stream",
     "name": "stdout",
     "text": [
      "hello\nex01\nintro\n"
     ]
    }
   ],
   "source": [
    "# 뒤에 확장자 없애고 가져와\n",
    "list = ['hello.py', 'ex01.py', 'intro.hwp']\n",
    "\n",
    "for i in list:\n",
    "    print(i.split('.')[0])"
   ]
  },
  {
   "cell_type": "code",
   "execution_count": 34,
   "metadata": {},
   "outputs": [
    {
     "output_type": "stream",
     "name": "stdout",
     "text": [
      "intra.h\ndefine.h\n"
     ]
    }
   ],
   "source": [
    "# 특정 확장자만 불러오기 1\n",
    "list = ['intra.h', 'intra.c', 'define.h', 'run.py']\n",
    "\n",
    "for i in list:\n",
    "    if i.split('.')[1] == 'h': print(i)"
   ]
  },
  {
   "cell_type": "code",
   "execution_count": 35,
   "metadata": {},
   "outputs": [
    {
     "output_type": "stream",
     "name": "stdout",
     "text": [
      "intra.h\nintra.c\ndefine.h\n"
     ]
    }
   ],
   "source": [
    "# 특정 확장자만 불러오기 2\n",
    "list = ['intra.h', 'intra.c', 'define.h', 'run.py']\n",
    "\n",
    "for i in list:\n",
    "    if i.split('.')[1] == 'h' or i.split('.')[1] == 'c': print(i)"
   ]
  },
  {
   "source": [
    "## 161~"
   ],
   "cell_type": "markdown",
   "metadata": {}
  },
  {
   "cell_type": "code",
   "execution_count": 37,
   "metadata": {},
   "outputs": [
    {
     "output_type": "stream",
     "name": "stdout",
     "text": [
      "0\n1\n2\n3\n4\n5\n6\n7\n8\n9\n10\n11\n12\n13\n14\n15\n16\n17\n18\n19\n20\n21\n22\n23\n24\n25\n26\n27\n28\n29\n30\n31\n32\n33\n34\n35\n36\n37\n38\n39\n40\n41\n42\n43\n44\n45\n46\n47\n48\n49\n50\n51\n52\n53\n54\n55\n56\n57\n58\n59\n60\n61\n62\n63\n64\n65\n66\n67\n68\n69\n70\n71\n72\n73\n74\n75\n76\n77\n78\n79\n80\n81\n82\n83\n84\n85\n86\n87\n88\n89\n90\n91\n92\n93\n94\n95\n96\n97\n98\n99\n"
     ]
    }
   ],
   "source": [
    "# 0~99 까지 출력해봐\n",
    "for i in range(100): print(i)"
   ]
  },
  {
   "cell_type": "code",
   "execution_count": 38,
   "metadata": {},
   "outputs": [
    {
     "output_type": "stream",
     "name": "stdout",
     "text": [
      "2002\n2006\n2010\n2014\n2018\n2022\n2026\n2030\n2034\n2038\n2042\n2046\n"
     ]
    }
   ],
   "source": [
    "# 월드컵은 4년에 한 번 개최된다. range()를 사용하여 2002~2050년까지 중 월드컵이 개최되는 연도를 출력하라.\n",
    "for i in range(2002, 2050, 4):\n",
    "    print(i)\n",
    "\n",
    "# range(시작, 끝, 증감폭)"
   ]
  },
  {
   "cell_type": "code",
   "execution_count": 40,
   "metadata": {},
   "outputs": [
    {
     "output_type": "stream",
     "name": "stdout",
     "text": [
      "3\n6\n9\n12\n15\n18\n21\n24\n27\n30\n"
     ]
    }
   ],
   "source": [
    "for i in range(3, 31, 3):\n",
    "    print(i)"
   ]
  },
  {
   "cell_type": "code",
   "execution_count": 42,
   "metadata": {},
   "outputs": [
    {
     "output_type": "stream",
     "name": "stdout",
     "text": [
      "99\n98\n97\n96\n95\n94\n93\n92\n91\n90\n89\n88\n87\n86\n85\n84\n83\n82\n81\n80\n79\n78\n77\n76\n75\n74\n73\n72\n71\n70\n69\n68\n67\n66\n65\n64\n63\n62\n61\n60\n59\n58\n57\n56\n55\n54\n53\n52\n51\n50\n49\n48\n47\n46\n45\n44\n43\n42\n41\n40\n39\n38\n37\n36\n35\n34\n33\n32\n31\n30\n29\n28\n27\n26\n25\n24\n23\n22\n21\n20\n19\n18\n17\n16\n15\n14\n13\n12\n11\n10\n9\n8\n7\n6\n5\n4\n3\n2\n1\n0\n"
     ]
    }
   ],
   "source": [
    "# 99부터 0까지 1씩 감소하는 숫자들을, 한 라인에 하나씩 출력하라.\n",
    "\n",
    "for i in range(100):\n",
    "    print(99-i)"
   ]
  },
  {
   "cell_type": "code",
   "execution_count": 51,
   "metadata": {},
   "outputs": [
    {
     "output_type": "stream",
     "name": "stdout",
     "text": [
      "0.0\n0.1\n0.2\n0.3\n0.4\n0.5\n0.6\n0.7\n0.8\n0.9\n"
     ]
    }
   ],
   "source": [
    "for i in range(10):\n",
    "    print(i/10)"
   ]
  },
  {
   "cell_type": "code",
   "execution_count": 53,
   "metadata": {},
   "outputs": [
    {
     "output_type": "stream",
     "name": "stdout",
     "text": [
      "3 × 1 = 3\n3 × 2 = 6\n3 × 3 = 9\n3 × 4 = 12\n3 × 5 = 15\n3 × 6 = 18\n3 × 7 = 21\n3 × 8 = 24\n3 × 9 = 27\n"
     ]
    }
   ],
   "source": [
    "# 구구단 3단을 출력하라.\n",
    "for i in range(1, 10):\n",
    "    print(3, '×',i,'=',(3*i))"
   ]
  },
  {
   "cell_type": "code",
   "execution_count": 60,
   "metadata": {},
   "outputs": [
    {
     "output_type": "stream",
     "name": "stdout",
     "text": [
      "3 × 1 = 3\n3 × 3 = 9\n3 × 5 = 15\n3 × 7 = 21\n3 × 9 = 27\n"
     ]
    }
   ],
   "source": [
    "# 구구단 3단을 출력하라. 단 홀수 번째만 출력한다.\n",
    "for i in range(1, 10):\n",
    "    if not i%2 == 0:\n",
    "        print(3, '×',i,'=',(3*i))"
   ]
  },
  {
   "cell_type": "code",
   "execution_count": 63,
   "metadata": {},
   "outputs": [
    {
     "output_type": "stream",
     "name": "stdout",
     "text": [
      "합: 55\n"
     ]
    }
   ],
   "source": [
    "# 1~10까지의 숫자에 대해 모두 더한 값을 출력하는 프로그램을 for 문을 사용하여 작성하라.\n",
    "sum = 0\n",
    "for i in range(1, 11):\n",
    "    sum += i\n",
    "print('합:', sum)"
   ]
  },
  {
   "cell_type": "code",
   "execution_count": 64,
   "metadata": {},
   "outputs": [
    {
     "output_type": "stream",
     "name": "stdout",
     "text": [
      "합: 25\n"
     ]
    }
   ],
   "source": [
    "# 1~10까지의 숫자 중 모든 홀수의 합을 출력하는 프로그램을 for 문을 사용하여 작성하라.\n",
    "sum = 0\n",
    "for i in range(1, 11):\n",
    "    if i%2 == 1:\n",
    "        sum += i\n",
    "print('합:', sum)"
   ]
  },
  {
   "cell_type": "code",
   "execution_count": 65,
   "metadata": {},
   "outputs": [
    {
     "output_type": "stream",
     "name": "stdout",
     "text": [
      "3628800\n"
     ]
    }
   ],
   "source": [
    "# 1~10까지의 숫자를 모두 곱한 값을 출력하는 프로그램을 for 문을 사용하여 작성하라.\n",
    "multi = 1\n",
    "for i in range(1, 11):\n",
    "    multi *= i\n",
    "print(multi)"
   ]
  }
 ]
}