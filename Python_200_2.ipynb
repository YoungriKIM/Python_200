{
  "nbformat": 4,
  "nbformat_minor": 0,
  "metadata": {
    "colab": {
      "name": "Python_200_2",
      "provenance": [],
      "collapsed_sections": [],
      "authorship_tag": "ABX9TyOnZFQJlFUVITwpxAKIhJvY",
      "include_colab_link": true
    },
    "kernelspec": {
      "name": "python3",
      "display_name": "Python 3"
    }
  },
  "cells": [
    {
      "cell_type": "markdown",
      "metadata": {
        "id": "view-in-github",
        "colab_type": "text"
      },
      "source": [
        "<a href=\"https://colab.research.google.com/github/YoungriKIM/Python_200/blob/main/Python_200_2.ipynb\" target=\"_parent\"><img src=\"https://colab.research.google.com/assets/colab-badge.svg\" alt=\"Open In Colab\"/></a>"
      ]
    },
    {
      "cell_type": "code",
      "metadata": {
        "colab": {
          "base_uri": "https://localhost:8080/"
        },
        "id": "yXEermIPHy29",
        "outputId": "b0169d47-e094-4271-c52c-8c2186ecc44b"
      },
      "source": [
        "# 18) 문자열을 실수로 변환 ==========================\r\n",
        "num = \"15.79\"\r\n",
        "print(type(num))\r\n",
        "num2 = float(num)\r\n",
        "print(num2)\r\n",
        "print(type(num2))\r\n",
        "\r\n",
        "# 19) ==========================\r\n",
        "year = \"2020\"\r\n",
        "a = int(year)\r\n",
        "print(a+1, a, a-1)\r\n",
        "\r\n",
        "# 20) ==========================\r\n",
        "# 에이컨이 월 48,584원에 무이자 36개월의 조건으로 홈쇼핑에서 판매되고 있습니다. 총 금액은 계산한 후 이를 화면에 출력해보세요. (변수사용하기)\r\n",
        "\r\n",
        "월금액 = 48584\r\n",
        "개월 = 36\r\n",
        "총 = 월금액*개월\r\n",
        "print('총 금액: ',총)\r\n",
        "\r\n",
        "# 21) 첫번째, 세번째만 반환 ==========================\r\n",
        "letters = 'python'\r\n",
        "print(letters[0], letters[2])\r\n",
        "\r\n",
        "# 22) 끝 4자리만 반환 ==========================\r\n",
        "license_plate = \"24가 2210\"\r\n",
        "print(license_plate[-4:])\r\n",
        "\r\n",
        "# 23) 슬라이싱하기 + 오프셋 ==========================\r\n",
        "string = \"abcdefghijk\"\r\n",
        "print(string[::1])      #abcdefghijk    # 한 칸씩\r\n",
        "print(string[::2])      #acegik         # 두 칸씩\r\n",
        "print(string[::3])      #adgj           # 세 칸씩\r\n",
        "print(string[::-1])     #kjihgfedcba    # 거꾸로\r\n",
        "\r\n",
        "# 24) 거꾸로 반환하기 ==========================\r\n",
        "string = \"PYTHON\"\r\n",
        "print(string[::-1])      #NOHTYP\r\n",
        "\r\n",
        "# 25) 특정문자만 바꾸기 (replace) ==========================\r\n",
        "phone_number = \"010-1111-2222\"\r\n",
        "print(phone_number.replace('-',' '))    #010 1111 2222\r\n",
        "\r\n",
        "# 27) 특정문자 기준으로 분리하기 (split) ==========================\r\n",
        "url = \"http://sharebook.kr\"\r\n",
        "urltail = url.split('.')[1]\r\n",
        "print(urltail)      #kr\r\n",
        "\r\n",
        "# 28) 문자열은 할당 메서드 지원 놉 ==========================\r\n",
        "# lang = 'python'\r\n",
        "# lang[0] = 'P'\r\n",
        "# print(lang)\r\n",
        "# TypeError: 'str' object does not support item assignment\r\n",
        "\r\n",
        "# 29, 30) 문자열은 replace 되지만 불변형이라 매번 변수를 지정해 주어야 함 ==========================\r\n",
        "string = 'abcdfe2a354a32a'\r\n",
        "print(string.replace('a', 'A'))     #Abcdfe2A354A32A\r\n",
        "\r\n",
        "string = 'abcd'\r\n",
        "string.replace('b', 'B')\r\n",
        "print(string)                       #abcd  변경 안 되었음! 문자는 불변형 주의\r\n",
        "\r\n",
        "# 34) ==========================\r\n",
        "t1 = 'python'\r\n",
        "t2 = 'java'\r\n",
        "print((t1+' '+t2+' ')*4)        #python java python java python java python java \r\n",
        "\r\n",
        "# 35) % formatting ==========================\r\n",
        "# %s는 문자열 데이터 타입의 값\r\n",
        "# %d는 정수형 데이터 타입 값\r\n",
        "name1 = \"김민수\" \r\n",
        "age1 = 10\r\n",
        "name2 = \"이철희\"\r\n",
        "age2 = 13\r\n",
        "print('이름: %s 나이: %d' % (name1, age1))\r\n",
        "print('이름: %s 나이: %d' % (name2, age2))\r\n"
      ],
      "execution_count": 143,
      "outputs": [
        {
          "output_type": "stream",
          "text": [
            "<class 'str'>\n",
            "15.79\n",
            "<class 'float'>\n",
            "2021 2020 2019\n",
            "총 금액:  1749024\n",
            "p t\n",
            "2210\n",
            "abcdefghijk\n",
            "acegik\n",
            "adgj\n",
            "kjihgfedcba\n",
            "NOHTYP\n",
            "010 1111 2222\n",
            "kr\n",
            "Abcdfe2A354A32A\n",
            "abcd\n",
            "python java python java python java python java \n",
            "이름: 김민수 나이: 10\n",
            "이름: 이철희 나이: 13\n"
          ],
          "name": "stdout"
        }
      ]
    }
  ]
}