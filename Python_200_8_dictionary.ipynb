{
  "nbformat": 4,
  "nbformat_minor": 0,
  "metadata": {
    "colab": {
      "name": "Python_200_8_dictionary.ipynb ",
      "provenance": [],
      "authorship_tag": "ABX9TyNR89lknUoPQyIJeW2pt/cd",
      "include_colab_link": true
    },
    "kernelspec": {
      "name": "python3",
      "display_name": "Python 3"
    }
  },
  "cells": [
    {
      "cell_type": "markdown",
      "metadata": {
        "id": "view-in-github",
        "colab_type": "text"
      },
      "source": [
        "<a href=\"https://colab.research.google.com/github/YoungriKIM/Python_200/blob/main/Python_200_8_dictionary.ipynb\" target=\"_parent\"><img src=\"https://colab.research.google.com/assets/colab-badge.svg\" alt=\"Open In Colab\"/></a>"
      ]
    },
    {
      "cell_type": "code",
      "metadata": {
        "colab": {
          "base_uri": "https://localhost:8080/"
        },
        "id": "zAO5v3LzZXS4",
        "outputId": "48db8650-675a-40a7-e7f6-b44c6e566ff0"
      },
      "source": [
        "# 91) 딕셔너리 생성 ==========================\r\n",
        "inventory = {'메로나': [300, 20],\\\r\n",
        "             '비비빅': [400,3],\\\r\n",
        "             '죠스바': [250, 100]} \r\n",
        "print(inventory)\r\n",
        "\r\n",
        "\r\n",
        "# 92) 딕셔너리에서 원하는 값만 출력 ===========================\r\n",
        "print(inventory['메로나'][0])       #300\r\n",
        "print(inventory['죠스바'][1])       #100\r\n",
        "\r\n",
        "\r\n",
        "# 94) 딕셔너리에 추가 ======================\r\n",
        "inventory['월드콘'] = [500, 7]\r\n",
        "print(inventory)\r\n",
        "# {'메로나': [300, 20], '비비빅': [400, 3], '죠스바': [250, 100], '월드콘': [500, 7]}\r\n",
        "\r\n",
        "\r\n",
        "# 95) 딕셔너리에서 key 값만 반환 / keys() =================\r\n",
        "keys = list(inventory.keys())\r\n",
        "print(keys)\r\n",
        "# ['메로나', '비비빅', '죠스바', '월드콘']\r\n",
        "\r\n",
        "\r\n",
        "# 96) 딕셔너리에서 values 값만 반환 / values() =========================\r\n",
        "values = list(inventory.values())\r\n",
        "print(values)\r\n",
        "# [[300, 20], [400, 3], [250, 100], [500, 7]]\r\n",
        "\r\n",
        "# 97) values 를 이용해 총합 구하기 ====================\r\n",
        "icecream = {'탱크보이': 1200, '폴라포': 1200, '빵빠레': 1800, '월드콘': 1500, '메로나': 1000}\r\n",
        "total = sum(icecream.values())\r\n",
        "print(total)        #6700\r\n",
        "\r\n",
        "# 98) 여러가지를 딕셔너리에 추가하기 / .update() ===================\r\n",
        "new_product = {'팥빙수':2700, '아맛나':1000}\r\n",
        "icecream.update(new_product)\r\n",
        "print(icecream)\r\n",
        "# {'탱크보이': 1200, '폴라포': 1200, '빵빠레': 1800, '월드콘': 1500, '메로나': 1000, '팥빙수': 2700, '아맛나': 1000}\r\n",
        "\r\n",
        "# 99) 튜플을 딕셔너리로 변환하기 / zip, dict ======================\r\n",
        "keys = (\"apple\", \"pear\", \"peach\")\r\n",
        "vals = (300, 250, 400)\r\n",
        "\r\n",
        "result = dict(zip(keys, vals))\r\n",
        "print(result)\r\n",
        "# {'apple': 300, 'pear': 250, 'peach': 400}\r\n",
        "\r\n",
        "\r\n",
        "# 100) 리스트를 딕셔너리로 변환하기 / zip, dict ======================\r\n",
        "date = ['09/05', '09/06', '09/07', '09/08', '09/09']\r\n",
        "close_price = [10500, 10300, 10100, 10800, 11000]\r\n",
        "\r\n",
        "result2 = dict(zip(date, close_price))\r\n",
        "print(result2)\r\n",
        "# {'09/05': 10500, '09/06': 10300, '09/07': 10100, '09/08': 10800, '09/09': 11000}\r\n"
      ],
      "execution_count": 17,
      "outputs": [
        {
          "output_type": "stream",
          "text": [
            "{'메로나': [300, 20], '비비빅': [400, 3], '죠스바': [250, 100]}\n",
            "300\n",
            "100\n",
            "{'메로나': [300, 20], '비비빅': [400, 3], '죠스바': [250, 100], '월드콘': [500, 7]}\n",
            "['메로나', '비비빅', '죠스바', '월드콘']\n",
            "[[300, 20], [400, 3], [250, 100], [500, 7]]\n",
            "6700\n",
            "{'탱크보이': 1200, '폴라포': 1200, '빵빠레': 1800, '월드콘': 1500, '메로나': 1000, '팥빙수': 2700, '아맛나': 1000}\n",
            "{'apple': 300, 'pear': 250, 'peach': 400}\n",
            "{'09/05': 10500, '09/06': 10300, '09/07': 10100, '09/08': 10800, '09/09': 11000}\n"
          ],
          "name": "stdout"
        }
      ]
    }
  ]
}